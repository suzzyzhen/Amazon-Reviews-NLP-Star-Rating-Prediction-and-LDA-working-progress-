{
 "cells": [
  {
   "cell_type": "markdown",
   "metadata": {},
   "source": [
    "## DataFrame Creation from Dataset \n",
    "\n",
    "\n",
    "### Introduction \n",
    "\n",
    "This notebook includes the steps to load the .json files contianing the review data as well as the metadata for each product. It also performs some initial data cleaning such as removing duplicate columns from the dataset and removal of columns with null values. Lastly, initial feature engineering was introduced to identify when the reviews were posted. \n",
    "\n",
    "\n",
    "### Dataset \n",
    "\n",
    "The dataset that will be used is Amazon Review Data published by UCSD. The entire dataset contains 233 million reviews across 29 categories. For the purpose of this project, a subset of the data from one category (Grocery and Gourmet Food) will be used to perform the analysis. This subset of the data contains 1,143,860 total reviews from 41,320 products, with each of the products having at least 5 reviews \n",
    "\n",
    "Link for dataset: https://nijianmo.github.io/amazon/index.html#code\n",
    "\n",
    "### Output \n",
    "Dataframe with the text review, star-rating, and department will be pickled for further cleaning and analysis\n",
    "\n",
    "\n"
   ]
  },
  {
   "cell_type": "code",
   "execution_count": 36,
   "metadata": {
    "id": "1gEsEfUWvWT-"
   },
   "outputs": [],
   "source": [
    "import os\n",
    "import json\n",
    "import gzip\n",
    "import pandas as pd\n",
    "from urllib.request import urlopen\n",
    "import random\n",
    "import numpy as np\n",
    "from tqdm import tqdm_notebook as tqdm\n",
    "from collections import defaultdict\n",
    "import matplotlib.pyplot as plt\n",
    "import seaborn as sns"
   ]
  },
  {
   "cell_type": "code",
   "execution_count": 37,
   "metadata": {
    "colab": {
     "base_uri": "https://localhost:8080/",
     "height": 137,
     "referenced_widgets": [
      "2e9008bbce9f4ec5b782a772fdd6152e",
      "5f5d782e23764ae5be171b57e2f356e6",
      "9e90eca86d31453c947326774ffe070e",
      "991c82a054a84d4e8c849a41f9a6df54",
      "f2c1394854664232801aca5202eeb340",
      "3f549e0015ef4e04b32a5b3d66210f29",
      "3d6bfe2abbbf4f168fcdc336f8da9576",
      "8a54338ac3414f53b8ddaeec6c7ffebc"
     ]
    },
    "id": "-QaziloRvpIV",
    "outputId": "07c9b66a-7de6-46f1-a128-558ade0c7a03"
   },
   "outputs": [
    {
     "data": {
      "application/vnd.jupyter.widget-view+json": {
       "model_id": "ed6c479906e049aea2a4ac85e6659104",
       "version_major": 2,
       "version_minor": 0
      },
      "text/plain": [
       "HBox(children=(IntProgress(value=1, bar_style='info', max=1), HTML(value='')))"
      ]
     },
     "metadata": {},
     "output_type": "display_data"
    },
    {
     "name": "stdout",
     "output_type": "stream",
     "text": [
      "\n"
     ]
    }
   ],
   "source": [
    "# load the file with review data\n",
    "\n",
    "data = []\n",
    "with open('Grocery_and_Gourmet_Food_5.json', 'r') as f:\n",
    "    for l in tqdm(f):\n",
    "        data.append(json.loads(l))"
   ]
  },
  {
   "cell_type": "code",
   "execution_count": 38,
   "metadata": {
    "colab": {
     "base_uri": "https://localhost:8080/"
    },
    "id": "NbJ3b5hzwAgb",
    "outputId": "1dd4faad-9086-409c-a888-1cdae9c49197"
   },
   "outputs": [
    {
     "name": "stdout",
     "output_type": "stream",
     "text": [
      "{'overall': 5.0, 'verified': True, 'reviewTime': '11 19, 2014', 'reviewerID': 'A1QVBUH9E1V6I8', 'asin': '4639725183', 'reviewerName': 'Jamshed Mathur', 'reviewText': 'No adverse comment.', 'summary': 'Five Stars', 'unixReviewTime': 1416355200}\n"
     ]
    }
   ],
   "source": [
    "# show an example of the review data \n",
    "print(data[0])"
   ]
  },
  {
   "cell_type": "code",
   "execution_count": 39,
   "metadata": {
    "colab": {
     "base_uri": "https://localhost:8080/",
     "height": 479
    },
    "id": "33xbzrLDfw1q",
    "outputId": "ba02786c-f5ee-422f-9a51-81fbbfea160c"
   },
   "outputs": [
    {
     "name": "stdout",
     "output_type": "stream",
     "text": [
      "There are: 1143860 reviews in the dataset\n"
     ]
    },
    {
     "data": {
      "text/html": [
       "<div>\n",
       "<style scoped>\n",
       "    .dataframe tbody tr th:only-of-type {\n",
       "        vertical-align: middle;\n",
       "    }\n",
       "\n",
       "    .dataframe tbody tr th {\n",
       "        vertical-align: top;\n",
       "    }\n",
       "\n",
       "    .dataframe thead th {\n",
       "        text-align: right;\n",
       "    }\n",
       "</style>\n",
       "<table border=\"1\" class=\"dataframe\">\n",
       "  <thead>\n",
       "    <tr style=\"text-align: right;\">\n",
       "      <th></th>\n",
       "      <th>overall</th>\n",
       "      <th>verified</th>\n",
       "      <th>reviewTime</th>\n",
       "      <th>reviewerID</th>\n",
       "      <th>asin</th>\n",
       "      <th>reviewerName</th>\n",
       "      <th>reviewText</th>\n",
       "      <th>summary</th>\n",
       "      <th>unixReviewTime</th>\n",
       "      <th>vote</th>\n",
       "      <th>style</th>\n",
       "      <th>image</th>\n",
       "    </tr>\n",
       "  </thead>\n",
       "  <tbody>\n",
       "    <tr>\n",
       "      <th>0</th>\n",
       "      <td>5.0</td>\n",
       "      <td>True</td>\n",
       "      <td>11 19, 2014</td>\n",
       "      <td>A1QVBUH9E1V6I8</td>\n",
       "      <td>4639725183</td>\n",
       "      <td>Jamshed Mathur</td>\n",
       "      <td>No adverse comment.</td>\n",
       "      <td>Five Stars</td>\n",
       "      <td>1416355200</td>\n",
       "      <td>NaN</td>\n",
       "      <td>NaN</td>\n",
       "      <td>NaN</td>\n",
       "    </tr>\n",
       "    <tr>\n",
       "      <th>1</th>\n",
       "      <td>5.0</td>\n",
       "      <td>True</td>\n",
       "      <td>10 13, 2016</td>\n",
       "      <td>A3GEOILWLK86XM</td>\n",
       "      <td>4639725183</td>\n",
       "      <td>itsjustme</td>\n",
       "      <td>Gift for college student.</td>\n",
       "      <td>Great product.</td>\n",
       "      <td>1476316800</td>\n",
       "      <td>NaN</td>\n",
       "      <td>NaN</td>\n",
       "      <td>NaN</td>\n",
       "    </tr>\n",
       "    <tr>\n",
       "      <th>2</th>\n",
       "      <td>5.0</td>\n",
       "      <td>True</td>\n",
       "      <td>11 21, 2015</td>\n",
       "      <td>A32RD6L701BIGP</td>\n",
       "      <td>4639725183</td>\n",
       "      <td>Krystal Clifton</td>\n",
       "      <td>If you like strong tea, this is for you. It mi...</td>\n",
       "      <td>Strong</td>\n",
       "      <td>1448064000</td>\n",
       "      <td>NaN</td>\n",
       "      <td>NaN</td>\n",
       "      <td>NaN</td>\n",
       "    </tr>\n",
       "    <tr>\n",
       "      <th>3</th>\n",
       "      <td>5.0</td>\n",
       "      <td>True</td>\n",
       "      <td>08 12, 2015</td>\n",
       "      <td>A2UY1O1FBGKIE6</td>\n",
       "      <td>4639725183</td>\n",
       "      <td>U. Kane</td>\n",
       "      <td>Love the tea. The flavor is way better than th...</td>\n",
       "      <td>Great tea</td>\n",
       "      <td>1439337600</td>\n",
       "      <td>NaN</td>\n",
       "      <td>NaN</td>\n",
       "      <td>NaN</td>\n",
       "    </tr>\n",
       "    <tr>\n",
       "      <th>4</th>\n",
       "      <td>5.0</td>\n",
       "      <td>True</td>\n",
       "      <td>05 28, 2015</td>\n",
       "      <td>A3QHVBQYDV7Z6U</td>\n",
       "      <td>4639725183</td>\n",
       "      <td>The Nana</td>\n",
       "      <td>I have searched everywhere until I browsed Ama...</td>\n",
       "      <td>This is the tea I remembered!</td>\n",
       "      <td>1432771200</td>\n",
       "      <td>NaN</td>\n",
       "      <td>NaN</td>\n",
       "      <td>NaN</td>\n",
       "    </tr>\n",
       "  </tbody>\n",
       "</table>\n",
       "</div>"
      ],
      "text/plain": [
       "   overall  verified   reviewTime      reviewerID        asin  \\\n",
       "0      5.0      True  11 19, 2014  A1QVBUH9E1V6I8  4639725183   \n",
       "1      5.0      True  10 13, 2016  A3GEOILWLK86XM  4639725183   \n",
       "2      5.0      True  11 21, 2015  A32RD6L701BIGP  4639725183   \n",
       "3      5.0      True  08 12, 2015  A2UY1O1FBGKIE6  4639725183   \n",
       "4      5.0      True  05 28, 2015  A3QHVBQYDV7Z6U  4639725183   \n",
       "\n",
       "      reviewerName                                         reviewText  \\\n",
       "0   Jamshed Mathur                                No adverse comment.   \n",
       "1        itsjustme                          Gift for college student.   \n",
       "2  Krystal Clifton  If you like strong tea, this is for you. It mi...   \n",
       "3          U. Kane  Love the tea. The flavor is way better than th...   \n",
       "4         The Nana  I have searched everywhere until I browsed Ama...   \n",
       "\n",
       "                         summary  unixReviewTime vote style image  \n",
       "0                     Five Stars      1416355200  NaN   NaN   NaN  \n",
       "1                 Great product.      1476316800  NaN   NaN   NaN  \n",
       "2                         Strong      1448064000  NaN   NaN   NaN  \n",
       "3                      Great tea      1439337600  NaN   NaN   NaN  \n",
       "4  This is the tea I remembered!      1432771200  NaN   NaN   NaN  "
      ]
     },
     "execution_count": 39,
     "metadata": {},
     "output_type": "execute_result"
    }
   ],
   "source": [
    "# transform the data into a Pandas dataframe \n",
    "\n",
    "r_df = pd.DataFrame.from_dict(data)\n",
    "print(\"There are:\",len(r_df), \"reviews in the dataset\")\n",
    "r_df.head()"
   ]
  },
  {
   "cell_type": "code",
   "execution_count": 40,
   "metadata": {
    "colab": {
     "base_uri": "https://localhost:8080/",
     "height": 137,
     "referenced_widgets": [
      "4a7a248a85d1429bac0d6b6aabb2e9cb",
      "9b5f5a3147074d909f27f7fd6e235ea4",
      "8e6ddd96a6db4fed86c37f42e376967c",
      "ebe3c197781c4c84bfd51be8b0b21102",
      "f86e9122ff3f4e58921fd42848d7d4a1",
      "a8e6c5e6df244da58706d2178893f076",
      "aa8c1316302a413382059d9da4bfa1cd",
      "b40dea2cb6334576bdc067b295ea6cc5"
     ]
    },
    "id": "GJP3kaKkh-X-",
    "outputId": "79d9cc47-c66c-45af-eb4d-3ffa7cba8d1c"
   },
   "outputs": [
    {
     "data": {
      "application/vnd.jupyter.widget-view+json": {
       "model_id": "2918c167cf134830b95846bd8f6baed8",
       "version_major": 2,
       "version_minor": 0
      },
      "text/plain": [
       "HBox(children=(IntProgress(value=1, bar_style='info', max=1), HTML(value='')))"
      ]
     },
     "metadata": {},
     "output_type": "display_data"
    },
    {
     "name": "stdout",
     "output_type": "stream",
     "text": [
      "\n"
     ]
    }
   ],
   "source": [
    "# load the product data containing the product specifications \n",
    "\n",
    "m_data = []\n",
    "with open('meta_Grocery_and_Gourmet_Food.json', 'r') as m:\n",
    "    for l in tqdm(m):\n",
    "        m_data.append(json.loads(l))"
   ]
  },
  {
   "cell_type": "code",
   "execution_count": 41,
   "metadata": {
    "colab": {
     "base_uri": "https://localhost:8080/"
    },
    "id": "Y9T4hCkRjZXS",
    "outputId": "d8effaa1-924e-4fed-c2df-97becc196406"
   },
   "outputs": [
    {
     "name": "stdout",
     "output_type": "stream",
     "text": [
      "{'category': ['Grocery & Gourmet Food', 'Dairy, Cheese & Eggs', 'Cheese', 'Gouda'], 'tech1': '', 'description': ['BEEMSTER GOUDA CHEESE AGED 18/24 MONTHS', 'Statements regarding dietary supplements have not been evaluated by the FDA and are not intended to diagnose, treat, cure, or prevent any disease or health condition.'], 'fit': '', 'title': 'Beemster Gouda - Aged 18/24 Months - App. 1.5 Lbs', 'also_buy': [], 'image': [], 'tech2': '', 'brand': 'Ariola Imports', 'feature': [], 'rank': '165,181 in Grocery & Gourmet Food (', 'also_view': ['B0000D9MYM', 'B0000D9MYL', 'B00ADHIGBA', 'B00H9OX598', 'B001LM42GY', 'B001LM5TDY'], 'main_cat': 'Grocery', 'similar_item': '', 'date': '', 'price': '$41.91', 'asin': '0681727810'}\n"
     ]
    }
   ],
   "source": [
    "# show an example of the metadata \n",
    "\n",
    "print(m_data[0])"
   ]
  },
  {
   "cell_type": "code",
   "execution_count": 42,
   "metadata": {
    "colab": {
     "base_uri": "https://localhost:8080/",
     "height": 550
    },
    "id": "NbrGiBgGj3F1",
    "outputId": "b20be329-7742-4581-90ad-e34ef4141210"
   },
   "outputs": [
    {
     "name": "stdout",
     "output_type": "stream",
     "text": [
      "There are: 287051 entries in the metadata\n"
     ]
    },
    {
     "data": {
      "text/html": [
       "<div>\n",
       "<style scoped>\n",
       "    .dataframe tbody tr th:only-of-type {\n",
       "        vertical-align: middle;\n",
       "    }\n",
       "\n",
       "    .dataframe tbody tr th {\n",
       "        vertical-align: top;\n",
       "    }\n",
       "\n",
       "    .dataframe thead th {\n",
       "        text-align: right;\n",
       "    }\n",
       "</style>\n",
       "<table border=\"1\" class=\"dataframe\">\n",
       "  <thead>\n",
       "    <tr style=\"text-align: right;\">\n",
       "      <th></th>\n",
       "      <th>category</th>\n",
       "      <th>tech1</th>\n",
       "      <th>description</th>\n",
       "      <th>fit</th>\n",
       "      <th>title</th>\n",
       "      <th>also_buy</th>\n",
       "      <th>image</th>\n",
       "      <th>tech2</th>\n",
       "      <th>brand</th>\n",
       "      <th>feature</th>\n",
       "      <th>rank</th>\n",
       "      <th>also_view</th>\n",
       "      <th>main_cat</th>\n",
       "      <th>similar_item</th>\n",
       "      <th>date</th>\n",
       "      <th>price</th>\n",
       "      <th>asin</th>\n",
       "      <th>details</th>\n",
       "    </tr>\n",
       "  </thead>\n",
       "  <tbody>\n",
       "    <tr>\n",
       "      <th>0</th>\n",
       "      <td>[Grocery &amp; Gourmet Food, Dairy, Cheese &amp; Eggs,...</td>\n",
       "      <td></td>\n",
       "      <td>[BEEMSTER GOUDA CHEESE AGED 18/24 MONTHS, Stat...</td>\n",
       "      <td></td>\n",
       "      <td>Beemster Gouda - Aged 18/24 Months - App. 1.5 Lbs</td>\n",
       "      <td>[]</td>\n",
       "      <td>[]</td>\n",
       "      <td></td>\n",
       "      <td>Ariola Imports</td>\n",
       "      <td>[]</td>\n",
       "      <td>165,181 in Grocery &amp; Gourmet Food (</td>\n",
       "      <td>[B0000D9MYM, B0000D9MYL, B00ADHIGBA, B00H9OX59...</td>\n",
       "      <td>Grocery</td>\n",
       "      <td></td>\n",
       "      <td></td>\n",
       "      <td>$41.91</td>\n",
       "      <td>0681727810</td>\n",
       "      <td>NaN</td>\n",
       "    </tr>\n",
       "    <tr>\n",
       "      <th>1</th>\n",
       "      <td>[Grocery &amp; Gourmet Food, Cooking &amp; Baking, Sug...</td>\n",
       "      <td></td>\n",
       "      <td>[Shipped from UK, please allow 10 to 21 busine...</td>\n",
       "      <td></td>\n",
       "      <td>Trim Healthy Mama Xylitol</td>\n",
       "      <td>[B01898YHXK, B01BCM6LAC, B00Q4OL47O, B00Q4OL5Q...</td>\n",
       "      <td>[https://images-na.ssl-images-amazon.com/image...</td>\n",
       "      <td></td>\n",
       "      <td></td>\n",
       "      <td>[]</td>\n",
       "      <td>315,867 in Grocery &amp; Gourmet Food (</td>\n",
       "      <td>[]</td>\n",
       "      <td>Grocery</td>\n",
       "      <td></td>\n",
       "      <td></td>\n",
       "      <td></td>\n",
       "      <td>0853347867</td>\n",
       "      <td>NaN</td>\n",
       "    </tr>\n",
       "    <tr>\n",
       "      <th>2</th>\n",
       "      <td>[Grocery &amp; Gourmet Food, Cooking &amp; Baking, Fro...</td>\n",
       "      <td></td>\n",
       "      <td>[Jazz up your cakes with a sparkling monogram ...</td>\n",
       "      <td></td>\n",
       "      <td>Letter C - Swarovski Crystal Monogram Wedding ...</td>\n",
       "      <td>[]</td>\n",
       "      <td>[]</td>\n",
       "      <td></td>\n",
       "      <td>Unik Occasions</td>\n",
       "      <td>[]</td>\n",
       "      <td>[&gt;#669,941 in Kitchen &amp; Dining (See Top 100 in...</td>\n",
       "      <td>[B07DXN65TF]</td>\n",
       "      <td>Amazon Home</td>\n",
       "      <td></td>\n",
       "      <td>September 21, 2010</td>\n",
       "      <td>$29.95</td>\n",
       "      <td>1888861118</td>\n",
       "      <td>NaN</td>\n",
       "    </tr>\n",
       "    <tr>\n",
       "      <th>3</th>\n",
       "      <td>[Grocery &amp; Gourmet Food, Cooking &amp; Baking, Fro...</td>\n",
       "      <td></td>\n",
       "      <td>[Large Letter - Height 4.75\"]</td>\n",
       "      <td></td>\n",
       "      <td>Letter H - Swarovski Crystal Monogram Wedding ...</td>\n",
       "      <td>[]</td>\n",
       "      <td>[]</td>\n",
       "      <td></td>\n",
       "      <td>Other</td>\n",
       "      <td>[Large Letter - Height 4.75\"]</td>\n",
       "      <td>[&gt;#832,581 in Kitchen &amp; Dining (See Top 100 in...</td>\n",
       "      <td>[]</td>\n",
       "      <td>Amazon Home</td>\n",
       "      <td></td>\n",
       "      <td>September 11, 2011</td>\n",
       "      <td>$11.45</td>\n",
       "      <td>1888861517</td>\n",
       "      <td>NaN</td>\n",
       "    </tr>\n",
       "    <tr>\n",
       "      <th>4</th>\n",
       "      <td>[Grocery &amp; Gourmet Food, Cooking &amp; Baking, Fro...</td>\n",
       "      <td></td>\n",
       "      <td>[4.75\"]</td>\n",
       "      <td></td>\n",
       "      <td>Letter S - Swarovski Crystal Monogram Wedding ...</td>\n",
       "      <td>[]</td>\n",
       "      <td>[]</td>\n",
       "      <td></td>\n",
       "      <td>Unik Occasions</td>\n",
       "      <td>[4.75\" height]</td>\n",
       "      <td>[&gt;#590,999 in Kitchen &amp; Dining (See Top 100 in...</td>\n",
       "      <td>[]</td>\n",
       "      <td>Amazon Home</td>\n",
       "      <td></td>\n",
       "      <td>September 11, 2011</td>\n",
       "      <td>$15.00</td>\n",
       "      <td>1888861614</td>\n",
       "      <td>NaN</td>\n",
       "    </tr>\n",
       "  </tbody>\n",
       "</table>\n",
       "</div>"
      ],
      "text/plain": [
       "                                            category tech1  \\\n",
       "0  [Grocery & Gourmet Food, Dairy, Cheese & Eggs,...         \n",
       "1  [Grocery & Gourmet Food, Cooking & Baking, Sug...         \n",
       "2  [Grocery & Gourmet Food, Cooking & Baking, Fro...         \n",
       "3  [Grocery & Gourmet Food, Cooking & Baking, Fro...         \n",
       "4  [Grocery & Gourmet Food, Cooking & Baking, Fro...         \n",
       "\n",
       "                                         description fit  \\\n",
       "0  [BEEMSTER GOUDA CHEESE AGED 18/24 MONTHS, Stat...       \n",
       "1  [Shipped from UK, please allow 10 to 21 busine...       \n",
       "2  [Jazz up your cakes with a sparkling monogram ...       \n",
       "3                      [Large Letter - Height 4.75\"]       \n",
       "4                                            [4.75\"]       \n",
       "\n",
       "                                               title  \\\n",
       "0  Beemster Gouda - Aged 18/24 Months - App. 1.5 Lbs   \n",
       "1                          Trim Healthy Mama Xylitol   \n",
       "2  Letter C - Swarovski Crystal Monogram Wedding ...   \n",
       "3  Letter H - Swarovski Crystal Monogram Wedding ...   \n",
       "4  Letter S - Swarovski Crystal Monogram Wedding ...   \n",
       "\n",
       "                                            also_buy  \\\n",
       "0                                                 []   \n",
       "1  [B01898YHXK, B01BCM6LAC, B00Q4OL47O, B00Q4OL5Q...   \n",
       "2                                                 []   \n",
       "3                                                 []   \n",
       "4                                                 []   \n",
       "\n",
       "                                               image tech2           brand  \\\n",
       "0                                                 []        Ariola Imports   \n",
       "1  [https://images-na.ssl-images-amazon.com/image...                         \n",
       "2                                                 []        Unik Occasions   \n",
       "3                                                 []                 Other   \n",
       "4                                                 []        Unik Occasions   \n",
       "\n",
       "                         feature  \\\n",
       "0                             []   \n",
       "1                             []   \n",
       "2                             []   \n",
       "3  [Large Letter - Height 4.75\"]   \n",
       "4                 [4.75\" height]   \n",
       "\n",
       "                                                rank  \\\n",
       "0                165,181 in Grocery & Gourmet Food (   \n",
       "1                315,867 in Grocery & Gourmet Food (   \n",
       "2  [>#669,941 in Kitchen & Dining (See Top 100 in...   \n",
       "3  [>#832,581 in Kitchen & Dining (See Top 100 in...   \n",
       "4  [>#590,999 in Kitchen & Dining (See Top 100 in...   \n",
       "\n",
       "                                           also_view     main_cat  \\\n",
       "0  [B0000D9MYM, B0000D9MYL, B00ADHIGBA, B00H9OX59...      Grocery   \n",
       "1                                                 []      Grocery   \n",
       "2                                       [B07DXN65TF]  Amazon Home   \n",
       "3                                                 []  Amazon Home   \n",
       "4                                                 []  Amazon Home   \n",
       "\n",
       "  similar_item                date   price        asin details  \n",
       "0                                   $41.91  0681727810     NaN  \n",
       "1                                           0853347867     NaN  \n",
       "2               September 21, 2010  $29.95  1888861118     NaN  \n",
       "3               September 11, 2011  $11.45  1888861517     NaN  \n",
       "4               September 11, 2011  $15.00  1888861614     NaN  "
      ]
     },
     "execution_count": 42,
     "metadata": {},
     "output_type": "execute_result"
    }
   ],
   "source": [
    "# transform the metadata into a Pandas dataframe \n",
    "\n",
    "m_df = pd.DataFrame.from_dict(m_data)\n",
    "print(\"There are:\",len(m_df), \"entries in the metadata\")\n",
    "m_df.head()"
   ]
  },
  {
   "cell_type": "code",
   "execution_count": 43,
   "metadata": {
    "colab": {
     "base_uri": "https://localhost:8080/"
    },
    "id": "K0o27TTin4wV",
    "outputId": "d07e8b57-5eaf-4590-a9ad-e6838ca11be6"
   },
   "outputs": [
    {
     "data": {
      "text/plain": [
       "Index(['category', 'tech1', 'description', 'fit', 'title', 'also_buy', 'image',\n",
       "       'tech2', 'brand', 'feature', 'rank', 'also_view', 'main_cat',\n",
       "       'similar_item', 'date', 'price', 'asin', 'details'],\n",
       "      dtype='object')"
      ]
     },
     "execution_count": 43,
     "metadata": {},
     "output_type": "execute_result"
    }
   ],
   "source": [
    "# show all the columns in the metadata \n",
    "\n",
    "m_df.columns"
   ]
  },
  {
   "cell_type": "code",
   "execution_count": 44,
   "metadata": {
    "colab": {
     "base_uri": "https://localhost:8080/"
    },
    "id": "SMn9r9M1tf8d",
    "outputId": "5236e629-69c9-4e88-e45a-8d38d56d9f4b"
   },
   "outputs": [
    {
     "name": "stdout",
     "output_type": "stream",
     "text": [
      "There are 3697 duplicates asin info in meta_data\n"
     ]
    }
   ],
   "source": [
    "# find the duplicates in the metadata file and drop the earlier entries if there are duplicates \n",
    "\n",
    "m_df2 = m_df.drop_duplicates(subset=['asin'], keep='last')\n",
    "print('There are', len(m_df)-len(m_df2), 'duplicates asin info in meta_data')"
   ]
  },
  {
   "cell_type": "code",
   "execution_count": 45,
   "metadata": {
    "id": "u4lOie0ivyHa"
   },
   "outputs": [],
   "source": [
    "# # code to look at what the duplicate items are \n",
    "\n",
    "# pd.concat(g for _, g in m_df.groupby(\"asin\") if len(g) > 1)"
   ]
  },
  {
   "cell_type": "code",
   "execution_count": 46,
   "metadata": {
    "colab": {
     "base_uri": "https://localhost:8080/"
    },
    "id": "GJZyxhrunpJn",
    "outputId": "30e384fb-e8b7-4805-89a4-cded486ead36"
   },
   "outputs": [
    {
     "data": {
      "text/plain": [
       "1143860"
      ]
     },
     "execution_count": 46,
     "metadata": {},
     "output_type": "execute_result"
    }
   ],
   "source": [
    "#left join the reviews df and metadata df to get the category of the food \n",
    "\n",
    "merged_df = pd.merge(left=r_df, right=m_df2, how='left', left_on='asin', right_on='asin')\n",
    "len(merged_df) # number of entries after joining the df's matches before the join "
   ]
  },
  {
   "cell_type": "code",
   "execution_count": 47,
   "metadata": {
    "colab": {
     "base_uri": "https://localhost:8080/",
     "height": 819
    },
    "id": "blsKpptmocS9",
    "outputId": "a129227f-944a-4227-de85-ba09161c7fb4"
   },
   "outputs": [
    {
     "data": {
      "text/html": [
       "<div>\n",
       "<style scoped>\n",
       "    .dataframe tbody tr th:only-of-type {\n",
       "        vertical-align: middle;\n",
       "    }\n",
       "\n",
       "    .dataframe tbody tr th {\n",
       "        vertical-align: top;\n",
       "    }\n",
       "\n",
       "    .dataframe thead th {\n",
       "        text-align: right;\n",
       "    }\n",
       "</style>\n",
       "<table border=\"1\" class=\"dataframe\">\n",
       "  <thead>\n",
       "    <tr style=\"text-align: right;\">\n",
       "      <th></th>\n",
       "      <th>overall</th>\n",
       "      <th>verified</th>\n",
       "      <th>reviewTime</th>\n",
       "      <th>reviewerID</th>\n",
       "      <th>asin</th>\n",
       "      <th>reviewerName</th>\n",
       "      <th>reviewText</th>\n",
       "      <th>summary</th>\n",
       "      <th>unixReviewTime</th>\n",
       "      <th>vote</th>\n",
       "      <th>...</th>\n",
       "      <th>tech2</th>\n",
       "      <th>brand</th>\n",
       "      <th>feature</th>\n",
       "      <th>rank</th>\n",
       "      <th>also_view</th>\n",
       "      <th>main_cat</th>\n",
       "      <th>similar_item</th>\n",
       "      <th>date</th>\n",
       "      <th>price</th>\n",
       "      <th>details</th>\n",
       "    </tr>\n",
       "  </thead>\n",
       "  <tbody>\n",
       "    <tr>\n",
       "      <th>0</th>\n",
       "      <td>5.0</td>\n",
       "      <td>True</td>\n",
       "      <td>11 19, 2014</td>\n",
       "      <td>A1QVBUH9E1V6I8</td>\n",
       "      <td>4639725183</td>\n",
       "      <td>Jamshed Mathur</td>\n",
       "      <td>No adverse comment.</td>\n",
       "      <td>Five Stars</td>\n",
       "      <td>1416355200</td>\n",
       "      <td>NaN</td>\n",
       "      <td>...</td>\n",
       "      <td></td>\n",
       "      <td>Lipton</td>\n",
       "      <td>[]</td>\n",
       "      <td>15,487 in Grocery &amp; Gourmet Food (</td>\n",
       "      <td>[B000JSQDK4, B007ZI1SKG, B00286KM8E, B01LY2304...</td>\n",
       "      <td>Grocery</td>\n",
       "      <td></td>\n",
       "      <td></td>\n",
       "      <td>$12.98</td>\n",
       "      <td>NaN</td>\n",
       "    </tr>\n",
       "    <tr>\n",
       "      <th>1</th>\n",
       "      <td>5.0</td>\n",
       "      <td>True</td>\n",
       "      <td>10 13, 2016</td>\n",
       "      <td>A3GEOILWLK86XM</td>\n",
       "      <td>4639725183</td>\n",
       "      <td>itsjustme</td>\n",
       "      <td>Gift for college student.</td>\n",
       "      <td>Great product.</td>\n",
       "      <td>1476316800</td>\n",
       "      <td>NaN</td>\n",
       "      <td>...</td>\n",
       "      <td></td>\n",
       "      <td>Lipton</td>\n",
       "      <td>[]</td>\n",
       "      <td>15,487 in Grocery &amp; Gourmet Food (</td>\n",
       "      <td>[B000JSQDK4, B007ZI1SKG, B00286KM8E, B01LY2304...</td>\n",
       "      <td>Grocery</td>\n",
       "      <td></td>\n",
       "      <td></td>\n",
       "      <td>$12.98</td>\n",
       "      <td>NaN</td>\n",
       "    </tr>\n",
       "    <tr>\n",
       "      <th>2</th>\n",
       "      <td>5.0</td>\n",
       "      <td>True</td>\n",
       "      <td>11 21, 2015</td>\n",
       "      <td>A32RD6L701BIGP</td>\n",
       "      <td>4639725183</td>\n",
       "      <td>Krystal Clifton</td>\n",
       "      <td>If you like strong tea, this is for you. It mi...</td>\n",
       "      <td>Strong</td>\n",
       "      <td>1448064000</td>\n",
       "      <td>NaN</td>\n",
       "      <td>...</td>\n",
       "      <td></td>\n",
       "      <td>Lipton</td>\n",
       "      <td>[]</td>\n",
       "      <td>15,487 in Grocery &amp; Gourmet Food (</td>\n",
       "      <td>[B000JSQDK4, B007ZI1SKG, B00286KM8E, B01LY2304...</td>\n",
       "      <td>Grocery</td>\n",
       "      <td></td>\n",
       "      <td></td>\n",
       "      <td>$12.98</td>\n",
       "      <td>NaN</td>\n",
       "    </tr>\n",
       "    <tr>\n",
       "      <th>3</th>\n",
       "      <td>5.0</td>\n",
       "      <td>True</td>\n",
       "      <td>08 12, 2015</td>\n",
       "      <td>A2UY1O1FBGKIE6</td>\n",
       "      <td>4639725183</td>\n",
       "      <td>U. Kane</td>\n",
       "      <td>Love the tea. The flavor is way better than th...</td>\n",
       "      <td>Great tea</td>\n",
       "      <td>1439337600</td>\n",
       "      <td>NaN</td>\n",
       "      <td>...</td>\n",
       "      <td></td>\n",
       "      <td>Lipton</td>\n",
       "      <td>[]</td>\n",
       "      <td>15,487 in Grocery &amp; Gourmet Food (</td>\n",
       "      <td>[B000JSQDK4, B007ZI1SKG, B00286KM8E, B01LY2304...</td>\n",
       "      <td>Grocery</td>\n",
       "      <td></td>\n",
       "      <td></td>\n",
       "      <td>$12.98</td>\n",
       "      <td>NaN</td>\n",
       "    </tr>\n",
       "    <tr>\n",
       "      <th>4</th>\n",
       "      <td>5.0</td>\n",
       "      <td>True</td>\n",
       "      <td>05 28, 2015</td>\n",
       "      <td>A3QHVBQYDV7Z6U</td>\n",
       "      <td>4639725183</td>\n",
       "      <td>The Nana</td>\n",
       "      <td>I have searched everywhere until I browsed Ama...</td>\n",
       "      <td>This is the tea I remembered!</td>\n",
       "      <td>1432771200</td>\n",
       "      <td>NaN</td>\n",
       "      <td>...</td>\n",
       "      <td></td>\n",
       "      <td>Lipton</td>\n",
       "      <td>[]</td>\n",
       "      <td>15,487 in Grocery &amp; Gourmet Food (</td>\n",
       "      <td>[B000JSQDK4, B007ZI1SKG, B00286KM8E, B01LY2304...</td>\n",
       "      <td>Grocery</td>\n",
       "      <td></td>\n",
       "      <td></td>\n",
       "      <td>$12.98</td>\n",
       "      <td>NaN</td>\n",
       "    </tr>\n",
       "  </tbody>\n",
       "</table>\n",
       "<p>5 rows × 29 columns</p>\n",
       "</div>"
      ],
      "text/plain": [
       "   overall  verified   reviewTime      reviewerID        asin  \\\n",
       "0      5.0      True  11 19, 2014  A1QVBUH9E1V6I8  4639725183   \n",
       "1      5.0      True  10 13, 2016  A3GEOILWLK86XM  4639725183   \n",
       "2      5.0      True  11 21, 2015  A32RD6L701BIGP  4639725183   \n",
       "3      5.0      True  08 12, 2015  A2UY1O1FBGKIE6  4639725183   \n",
       "4      5.0      True  05 28, 2015  A3QHVBQYDV7Z6U  4639725183   \n",
       "\n",
       "      reviewerName                                         reviewText  \\\n",
       "0   Jamshed Mathur                                No adverse comment.   \n",
       "1        itsjustme                          Gift for college student.   \n",
       "2  Krystal Clifton  If you like strong tea, this is for you. It mi...   \n",
       "3          U. Kane  Love the tea. The flavor is way better than th...   \n",
       "4         The Nana  I have searched everywhere until I browsed Ama...   \n",
       "\n",
       "                         summary  unixReviewTime vote  ... tech2   brand  \\\n",
       "0                     Five Stars      1416355200  NaN  ...        Lipton   \n",
       "1                 Great product.      1476316800  NaN  ...        Lipton   \n",
       "2                         Strong      1448064000  NaN  ...        Lipton   \n",
       "3                      Great tea      1439337600  NaN  ...        Lipton   \n",
       "4  This is the tea I remembered!      1432771200  NaN  ...        Lipton   \n",
       "\n",
       "  feature                                rank  \\\n",
       "0      []  15,487 in Grocery & Gourmet Food (   \n",
       "1      []  15,487 in Grocery & Gourmet Food (   \n",
       "2      []  15,487 in Grocery & Gourmet Food (   \n",
       "3      []  15,487 in Grocery & Gourmet Food (   \n",
       "4      []  15,487 in Grocery & Gourmet Food (   \n",
       "\n",
       "                                           also_view main_cat similar_item  \\\n",
       "0  [B000JSQDK4, B007ZI1SKG, B00286KM8E, B01LY2304...  Grocery                \n",
       "1  [B000JSQDK4, B007ZI1SKG, B00286KM8E, B01LY2304...  Grocery                \n",
       "2  [B000JSQDK4, B007ZI1SKG, B00286KM8E, B01LY2304...  Grocery                \n",
       "3  [B000JSQDK4, B007ZI1SKG, B00286KM8E, B01LY2304...  Grocery                \n",
       "4  [B000JSQDK4, B007ZI1SKG, B00286KM8E, B01LY2304...  Grocery                \n",
       "\n",
       "  date   price details  \n",
       "0       $12.98     NaN  \n",
       "1       $12.98     NaN  \n",
       "2       $12.98     NaN  \n",
       "3       $12.98     NaN  \n",
       "4       $12.98     NaN  \n",
       "\n",
       "[5 rows x 29 columns]"
      ]
     },
     "execution_count": 47,
     "metadata": {},
     "output_type": "execute_result"
    }
   ],
   "source": [
    "# take a look at the merged df\n",
    "\n",
    "merged_df.head()"
   ]
  },
  {
   "cell_type": "code",
   "execution_count": 48,
   "metadata": {
    "colab": {
     "base_uri": "https://localhost:8080/"
    },
    "id": "RYsnVcN0w2RN",
    "outputId": "51ff1ece-f3d8-4c23-c409-10b0d255145e"
   },
   "outputs": [
    {
     "data": {
      "text/plain": [
       "Index(['overall', 'verified', 'reviewTime', 'reviewerID', 'asin',\n",
       "       'reviewerName', 'reviewText', 'summary', 'unixReviewTime', 'vote',\n",
       "       'style', 'image_x', 'category', 'tech1', 'description', 'fit', 'title',\n",
       "       'also_buy', 'image_y', 'tech2', 'brand', 'feature', 'rank', 'also_view',\n",
       "       'main_cat', 'similar_item', 'date', 'price', 'details'],\n",
       "      dtype='object')"
      ]
     },
     "execution_count": 48,
     "metadata": {},
     "output_type": "execute_result"
    }
   ],
   "source": [
    "# show all the columns in the merged df\n",
    "\n",
    "merged_df.columns"
   ]
  },
  {
   "cell_type": "code",
   "execution_count": 49,
   "metadata": {
    "colab": {
     "base_uri": "https://localhost:8080/"
    },
    "id": "lSrpE5fYOGBu",
    "outputId": "60c6e97a-183a-42c5-ad8c-cde47d9d2427"
   },
   "outputs": [
    {
     "data": {
      "text/plain": [
       "overall                 0\n",
       "verified                0\n",
       "reviewTime              0\n",
       "reviewerID              0\n",
       "asin                    0\n",
       "reviewerName          138\n",
       "reviewText            390\n",
       "summary               219\n",
       "unixReviewTime          0\n",
       "vote               985658\n",
       "style              551774\n",
       "image_x           1134350\n",
       "category              797\n",
       "tech1                 797\n",
       "description           797\n",
       "fit                   797\n",
       "title                 797\n",
       "also_buy              797\n",
       "image_y               797\n",
       "tech2                 797\n",
       "brand                 797\n",
       "feature               797\n",
       "rank                  797\n",
       "also_view             797\n",
       "main_cat              797\n",
       "similar_item          797\n",
       "date                  797\n",
       "price                 797\n",
       "details               848\n",
       "dtype: int64"
      ]
     },
     "execution_count": 49,
     "metadata": {},
     "output_type": "execute_result"
    }
   ],
   "source": [
    "# check for null values in the merged df \n",
    "\n",
    "merged_df.isnull().sum()"
   ]
  },
  {
   "cell_type": "code",
   "execution_count": 50,
   "metadata": {
    "colab": {
     "base_uri": "https://localhost:8080/"
    },
    "id": "gCy_CtfUOrLm",
    "outputId": "77ece0b4-a667-4ef1-80b9-5fe102cb7452"
   },
   "outputs": [
    {
     "data": {
      "text/plain": [
       "Index(['overall', 'verified', 'reviewTime', 'reviewerID', 'asin',\n",
       "       'reviewerName', 'reviewText', 'summary', 'unixReviewTime', 'vote',\n",
       "       'style', 'image_x', 'category', 'tech1', 'description', 'fit', 'title',\n",
       "       'also_buy', 'image_y', 'tech2', 'brand', 'feature', 'rank', 'also_view',\n",
       "       'main_cat', 'similar_item', 'date', 'price', 'details', 'department',\n",
       "       'year', 'month', 'day'],\n",
       "      dtype='object')"
      ]
     },
     "execution_count": 50,
     "metadata": {},
     "output_type": "execute_result"
    }
   ],
   "source": [
    "# feature engineering: extract the department (the second elements in the column 'category'); \n",
    "# extract the year, month, and day of the reviews \n",
    "\n",
    "merged_df['department'] = merged_df['category'].str[1]\n",
    "merged_df['date'], merged_df['year'] = merged_df['reviewTime'].str.split(',', 1).str\n",
    "merged_df['month'], merged_df['day']= merged_df['date'].str.split(' ', 1).str\n",
    "merged_df.columns"
   ]
  },
  {
   "cell_type": "code",
   "execution_count": 51,
   "metadata": {
    "colab": {
     "base_uri": "https://localhost:8080/"
    },
    "id": "fd0WEE1Etaz7",
    "outputId": "da90261a-6c10-4d08-a570-56a1b629db66"
   },
   "outputs": [
    {
     "name": "stdout",
     "output_type": "stream",
     "text": [
      "Beverages                             301360\n",
      "Cooking & Baking                      223278\n",
      "Snack Foods                           141916\n",
      "Candy & Chocolate                     122453\n",
      "Herbs, Spices & Seasonings             74641\n",
      "Breakfast Foods                        54210\n",
      "Canned, Jarred & Packaged Foods        41164\n",
      "Produce                                26631\n",
      "Soups, Stocks & Broths                 23930\n",
      "Sauces, Gravies & Marinades            21062\n",
      "Jams, Jellies & Sweet Spreads          20521\n",
      "Dairy, Cheese & Eggs                   15092\n",
      "Dried Beans, Grains & Rice             14213\n",
      "Pasta & Noodles                        11615\n",
      "Condiments & Salad Dressings           11254\n",
      "Food & Beverage Gifts                  10079\n",
      "Breads & Bakery                         9285\n",
      "Meat & Seafood                          6137\n",
      "Frozen                                  4304\n",
      "Olives, Pickles & Relishes              3696\n",
      "Fresh Flowers & Live Indoor Plants      3018\n",
      "Prepared Foods                          1325\n",
      "Meat Substitutes                        1251\n",
      "Deli                                     610\n",
      "Alcoholic Beverages                       18\n",
      "Name: department, dtype: int64\n"
     ]
    }
   ],
   "source": [
    "# check how many reviews each department has \n",
    "\n",
    "print(merged_df['department'].value_counts())"
   ]
  },
  {
   "cell_type": "code",
   "execution_count": 52,
   "metadata": {
    "colab": {
     "base_uri": "https://localhost:8080/"
    },
    "id": "fnXkS1uMzihM",
    "outputId": "fa4896c9-1d12-47da-efb0-4ab95d1e10f3"
   },
   "outputs": [
    {
     "name": "stdout",
     "output_type": "stream",
     "text": [
      "Thre are 26 departments in total\n"
     ]
    }
   ],
   "source": [
    "# find out the total number of departments \n",
    "\n",
    "print('Thre are', len(merged_df['department'].unique()),'departments in total')"
   ]
  },
  {
   "cell_type": "code",
   "execution_count": 53,
   "metadata": {
    "colab": {
     "base_uri": "https://localhost:8080/"
    },
    "id": "yPqRCyGTPX2N",
    "outputId": "fb1ab394-493e-4b64-f800-91f13c972091"
   },
   "outputs": [
    {
     "name": "stdout",
     "output_type": "stream",
     "text": [
      "The total number of products being reviewed is 41320\n",
      "The total number of reviewers is 127496\n"
     ]
    }
   ],
   "source": [
    "print('The total number of products being reviewed is', merged_df['asin'].nunique())\n",
    "print('The total number of reviewers is', merged_df['reviewerID'].nunique())"
   ]
  },
  {
   "cell_type": "code",
   "execution_count": 56,
   "metadata": {
    "colab": {
     "base_uri": "https://localhost:8080/"
    },
    "id": "Jbx1sVIG4dJA",
    "outputId": "bce2b57c-e964-470d-b0ac-9fbd507623c6"
   },
   "outputs": [
    {
     "data": {
      "image/png": "[encoded data removed]",
      "text/plain": [
       "<Figure size 576x360 with 1 Axes>"
      ]
     },
     "metadata": {
      "needs_background": "light"
     },
     "output_type": "display_data"
    },
    {
     "data": {
      "image/png": "[encoded data removed]",
      "text/plain": [
       "<Figure size 576x360 with 1 Axes>"
      ]
     },
     "metadata": {
      "needs_background": "light"
     },
     "output_type": "display_data"
    }
   ],
   "source": [
    "# print(\"Number of reviews from each year\",\"\\n\", merged_df['year'].value_counts().sort_index(ascending=False))\n",
    "\n",
    "year_count  = merged_df['year'].value_counts().sort_index()\n",
    "sns.barplot(year_count.index, year_count.values, alpha=0.5)\n",
    "plt.title('Number of Reviews by Year')\n",
    "plt.ylabel('Number of Reviews', fontsize=12)\n",
    "plt.xlabel('Year', fontsize=12)\n",
    "plt.xticks(rotation = 45)\n",
    "plt.show()\n",
    "\n",
    "\n",
    "# print(\"Number of reviews from each month\",\"\\n\",merged_df['month'].value_counts().sort_index())\n",
    "\n",
    "month_count  = merged_df['month'].value_counts().sort_index()\n",
    "sns.barplot(month_count.index, month_count.values, alpha=0.5)\n",
    "plt.title('Number of Reviews by Month')\n",
    "plt.ylabel('Number of Reviews', fontsize=12)\n",
    "plt.xlabel('Month', fontsize=12)\n",
    "plt.show()"
   ]
  },
  {
   "cell_type": "code",
   "execution_count": 57,
   "metadata": {
    "colab": {
     "base_uri": "https://localhost:8080/"
    },
    "id": "INk6RiW64nP3",
    "outputId": "d8b724a7-bbfd-4956-bfa7-dad9ecbe5577"
   },
   "outputs": [
    {
     "name": "stdout",
     "output_type": "stream",
     "text": [
      " 2018     98253\n",
      " 2017    203536\n",
      " 2016    253463\n",
      " 2015    246606\n",
      " 2014    166589\n",
      " 2013     90580\n",
      "Name: year, dtype: int64\n"
     ]
    }
   ],
   "source": [
    "# remove reviews before 2012 since they are too outdated \n",
    "\n",
    "merged_df = merged_df[(merged_df['year'].astype(int))> 2012]  \n",
    "print(merged_df['year'].value_counts().sort_index(ascending=False))"
   ]
  },
  {
   "cell_type": "code",
   "execution_count": 58,
   "metadata": {
    "colab": {
     "base_uri": "https://localhost:8080/"
    },
    "id": "FMTBF6IHBRjC",
    "outputId": "aeb8bec1-bb3b-4e66-c518-a659d0a6eb10"
   },
   "outputs": [
    {
     "name": "stdout",
     "output_type": "stream",
     "text": [
      "overall         0\n",
      "reviewText    390\n",
      "department    662\n",
      "dtype: int64\n",
      "1059027\n"
     ]
    }
   ],
   "source": [
    "# create df used to text mining, check for null values \n",
    "\n",
    "final_df = merged_df[['overall', 'reviewText', 'department']]\n",
    "print(final_df.isnull().sum())\n",
    "print(len(final_df))"
   ]
  },
  {
   "cell_type": "code",
   "execution_count": 59,
   "metadata": {
    "colab": {
     "base_uri": "https://localhost:8080/"
    },
    "id": "8JKBI9fpBRo0",
    "outputId": "58b418e0-ae63-4fb9-eb27-aee6218d174e"
   },
   "outputs": [
    {
     "name": "stderr",
     "output_type": "stream",
     "text": [
      "/usr/local/bin/anaconda3/lib/python3.7/site-packages/ipykernel_launcher.py:3: SettingWithCopyWarning: \n",
      "A value is trying to be set on a copy of a slice from a DataFrame\n",
      "\n",
      "See the caveats in the documentation: http://pandas.pydata.org/pandas-docs/stable/user_guide/indexing.html#returning-a-view-versus-a-copy\n",
      "  This is separate from the ipykernel package so we can avoid doing imports until\n"
     ]
    },
    {
     "name": "stdout",
     "output_type": "stream",
     "text": [
      "overall       0\n",
      "reviewText    0\n",
      "department    0\n",
      "dtype: int64\n",
      "1057975\n"
     ]
    }
   ],
   "source": [
    "# remove null values \n",
    "\n",
    "final_df.dropna(inplace= True)\n",
    "print(final_df.isnull().sum())\n",
    "print(len(final_df))"
   ]
  },
  {
   "cell_type": "code",
   "execution_count": 60,
   "metadata": {},
   "outputs": [],
   "source": [
    "# pickle final df for later use \n",
    "\n",
    "final_df.to_pickle(\"reviews.pkl\")"
   ]
  },
  {
   "cell_type": "code",
   "execution_count": null,
   "metadata": {},
   "outputs": [],
   "source": []
  }
 ],
 "metadata": {
  "accelerator": "GPU",
  "colab": {
   "collapsed_sections": [],
   "name": "DataFrame.ipynb",
   "provenance": []
  },
  "kernelspec": {
   "display_name": "Python 3",
   "language": "python",
   "name": "python3"
  },
  "language_info": {
   "codemirror_mode": {
    "name": "ipython",
    "version": 3
   },
   "file_extension": ".py",
   "mimetype": "text/x-python",
   "name": "python",
   "nbconvert_exporter": "python",
   "pygments_lexer": "ipython3",
   "version": "3.7.1"
  },
  "widgets": {
   "application/vnd.jupyter.widget-state+json": {
    "2e9008bbce9f4ec5b782a772fdd6152e": {
     "model_module": "@jupyter-widgets/controls",
     "model_name": "HBoxModel",
     "state": {
      "_dom_classes": [],
      "_model_module": "@jupyter-widgets/controls",
      "_model_module_version": "1.5.0",
      "_model_name": "HBoxModel",
      "_view_count": null,
      "_view_module": "@jupyter-widgets/controls",
      "_view_module_version": "1.5.0",
      "_view_name": "HBoxView",
      "box_style": "",
      "children": [
       "IPY_MODEL_9e90eca86d31453c947326774ffe070e",
       "IPY_MODEL_991c82a054a84d4e8c849a41f9a6df54"
      ],
      "layout": "IPY_MODEL_5f5d782e23764ae5be171b57e2f356e6"
     }
    },
    "3d6bfe2abbbf4f168fcdc336f8da9576": {
     "model_module": "@jupyter-widgets/controls",
     "model_name": "DescriptionStyleModel",
     "state": {
      "_model_module": "@jupyter-widgets/controls",
      "_model_module_version": "1.5.0",
      "_model_name": "DescriptionStyleModel",
      "_view_count": null,
      "_view_module": "@jupyter-widgets/base",
      "_view_module_version": "1.2.0",
      "_view_name": "StyleView",
      "description_width": ""
     }
    },
    "3f549e0015ef4e04b32a5b3d66210f29": {
     "model_module": "@jupyter-widgets/base",
     "model_name": "LayoutModel",
     "state": {
      "_model_module": "@jupyter-widgets/base",
      "_model_module_version": "1.2.0",
      "_model_name": "LayoutModel",
      "_view_count": null,
      "_view_module": "@jupyter-widgets/base",
      "_view_module_version": "1.2.0",
      "_view_name": "LayoutView",
      "align_content": null,
      "align_items": null,
      "align_self": null,
      "border": null,
      "bottom": null,
      "display": null,
      "flex": null,
      "flex_flow": null,
      "grid_area": null,
      "grid_auto_columns": null,
      "grid_auto_flow": null,
      "grid_auto_rows": null,
      "grid_column": null,
      "grid_gap": null,
      "grid_row": null,
      "grid_template_areas": null,
      "grid_template_columns": null,
      "grid_template_rows": null,
      "height": null,
      "justify_content": null,
      "justify_items": null,
      "left": null,
      "margin": null,
      "max_height": null,
      "max_width": null,
      "min_height": null,
      "min_width": null,
      "object_fit": null,
      "object_position": null,
      "order": null,
      "overflow": null,
      "overflow_x": null,
      "overflow_y": null,
      "padding": null,
      "right": null,
      "top": null,
      "visibility": null,
      "width": null
     }
    },
    "4a7a248a85d1429bac0d6b6aabb2e9cb": {
     "model_module": "@jupyter-widgets/controls",
     "model_name": "HBoxModel",
     "state": {
      "_dom_classes": [],
      "_model_module": "@jupyter-widgets/controls",
      "_model_module_version": "1.5.0",
      "_model_name": "HBoxModel",
      "_view_count": null,
      "_view_module": "@jupyter-widgets/controls",
      "_view_module_version": "1.5.0",
      "_view_name": "HBoxView",
      "box_style": "",
      "children": [
       "IPY_MODEL_8e6ddd96a6db4fed86c37f42e376967c",
       "IPY_MODEL_ebe3c197781c4c84bfd51be8b0b21102"
      ],
      "layout": "IPY_MODEL_9b5f5a3147074d909f27f7fd6e235ea4"
     }
    },
    "5f5d782e23764ae5be171b57e2f356e6": {
     "model_module": "@jupyter-widgets/base",
     "model_name": "LayoutModel",
     "state": {
      "_model_module": "@jupyter-widgets/base",
      "_model_module_version": "1.2.0",
      "_model_name": "LayoutModel",
      "_view_count": null,
      "_view_module": "@jupyter-widgets/base",
      "_view_module_version": "1.2.0",
      "_view_name": "LayoutView",
      "align_content": null,
      "align_items": null,
      "align_self": null,
      "border": null,
      "bottom": null,
      "display": null,
      "flex": null,
      "flex_flow": null,
      "grid_area": null,
      "grid_auto_columns": null,
      "grid_auto_flow": null,
      "grid_auto_rows": null,
      "grid_column": null,
      "grid_gap": null,
      "grid_row": null,
      "grid_template_areas": null,
      "grid_template_columns": null,
      "grid_template_rows": null,
      "height": null,
      "justify_content": null,
      "justify_items": null,
      "left": null,
      "margin": null,
      "max_height": null,
      "max_width": null,
      "min_height": null,
      "min_width": null,
      "object_fit": null,
      "object_position": null,
      "order": null,
      "overflow": null,
      "overflow_x": null,
      "overflow_y": null,
      "padding": null,
      "right": null,
      "top": null,
      "visibility": null,
      "width": null
     }
    },
    "8a54338ac3414f53b8ddaeec6c7ffebc": {
     "model_module": "@jupyter-widgets/base",
     "model_name": "LayoutModel",
     "state": {
      "_model_module": "@jupyter-widgets/base",
      "_model_module_version": "1.2.0",
      "_model_name": "LayoutModel",
      "_view_count": null,
      "_view_module": "@jupyter-widgets/base",
      "_view_module_version": "1.2.0",
      "_view_name": "LayoutView",
      "align_content": null,
      "align_items": null,
      "align_self": null,
      "border": null,
      "bottom": null,
      "display": null,
      "flex": null,
      "flex_flow": null,
      "grid_area": null,
      "grid_auto_columns": null,
      "grid_auto_flow": null,
      "grid_auto_rows": null,
      "grid_column": null,
      "grid_gap": null,
      "grid_row": null,
      "grid_template_areas": null,
      "grid_template_columns": null,
      "grid_template_rows": null,
      "height": null,
      "justify_content": null,
      "justify_items": null,
      "left": null,
      "margin": null,
      "max_height": null,
      "max_width": null,
      "min_height": null,
      "min_width": null,
      "object_fit": null,
      "object_position": null,
      "order": null,
      "overflow": null,
      "overflow_x": null,
      "overflow_y": null,
      "padding": null,
      "right": null,
      "top": null,
      "visibility": null,
      "width": null
     }
    },
    "8e6ddd96a6db4fed86c37f42e376967c": {
     "model_module": "@jupyter-widgets/controls",
     "model_name": "FloatProgressModel",
     "state": {
      "_dom_classes": [],
      "_model_module": "@jupyter-widgets/controls",
      "_model_module_version": "1.5.0",
      "_model_name": "FloatProgressModel",
      "_view_count": null,
      "_view_module": "@jupyter-widgets/controls",
      "_view_module_version": "1.5.0",
      "_view_name": "ProgressView",
      "bar_style": "success",
      "description": "",
      "description_tooltip": null,
      "layout": "IPY_MODEL_a8e6c5e6df244da58706d2178893f076",
      "max": 1,
      "min": 0,
      "orientation": "horizontal",
      "style": "IPY_MODEL_f86e9122ff3f4e58921fd42848d7d4a1",
      "value": 1
     }
    },
    "991c82a054a84d4e8c849a41f9a6df54": {
     "model_module": "@jupyter-widgets/controls",
     "model_name": "HTMLModel",
     "state": {
      "_dom_classes": [],
      "_model_module": "@jupyter-widgets/controls",
      "_model_module_version": "1.5.0",
      "_model_name": "HTMLModel",
      "_view_count": null,
      "_view_module": "@jupyter-widgets/controls",
      "_view_module_version": "1.5.0",
      "_view_name": "HTMLView",
      "description": "",
      "description_tooltip": null,
      "layout": "IPY_MODEL_8a54338ac3414f53b8ddaeec6c7ffebc",
      "placeholder": "​",
      "style": "IPY_MODEL_3d6bfe2abbbf4f168fcdc336f8da9576",
      "value": " 1143860/? [00:17&lt;00:00, 63842.49it/s]"
     }
    },
    "9b5f5a3147074d909f27f7fd6e235ea4": {
     "model_module": "@jupyter-widgets/base",
     "model_name": "LayoutModel",
     "state": {
      "_model_module": "@jupyter-widgets/base",
      "_model_module_version": "1.2.0",
      "_model_name": "LayoutModel",
      "_view_count": null,
      "_view_module": "@jupyter-widgets/base",
      "_view_module_version": "1.2.0",
      "_view_name": "LayoutView",
      "align_content": null,
      "align_items": null,
      "align_self": null,
      "border": null,
      "bottom": null,
      "display": null,
      "flex": null,
      "flex_flow": null,
      "grid_area": null,
      "grid_auto_columns": null,
      "grid_auto_flow": null,
      "grid_auto_rows": null,
      "grid_column": null,
      "grid_gap": null,
      "grid_row": null,
      "grid_template_areas": null,
      "grid_template_columns": null,
      "grid_template_rows": null,
      "height": null,
      "justify_content": null,
      "justify_items": null,
      "left": null,
      "margin": null,
      "max_height": null,
      "max_width": null,
      "min_height": null,
      "min_width": null,
      "object_fit": null,
      "object_position": null,
      "order": null,
      "overflow": null,
      "overflow_x": null,
      "overflow_y": null,
      "padding": null,
      "right": null,
      "top": null,
      "visibility": null,
      "width": null
     }
    },
    "9e90eca86d31453c947326774ffe070e": {
     "model_module": "@jupyter-widgets/controls",
     "model_name": "FloatProgressModel",
     "state": {
      "_dom_classes": [],
      "_model_module": "@jupyter-widgets/controls",
      "_model_module_version": "1.5.0",
      "_model_name": "FloatProgressModel",
      "_view_count": null,
      "_view_module": "@jupyter-widgets/controls",
      "_view_module_version": "1.5.0",
      "_view_name": "ProgressView",
      "bar_style": "success",
      "description": "",
      "description_tooltip": null,
      "layout": "IPY_MODEL_3f549e0015ef4e04b32a5b3d66210f29",
      "max": 1,
      "min": 0,
      "orientation": "horizontal",
      "style": "IPY_MODEL_f2c1394854664232801aca5202eeb340",
      "value": 1
     }
    },
    "a8e6c5e6df244da58706d2178893f076": {
     "model_module": "@jupyter-widgets/base",
     "model_name": "LayoutModel",
     "state": {
      "_model_module": "@jupyter-widgets/base",
      "_model_module_version": "1.2.0",
      "_model_name": "LayoutModel",
      "_view_count": null,
      "_view_module": "@jupyter-widgets/base",
      "_view_module_version": "1.2.0",
      "_view_name": "LayoutView",
      "align_content": null,
      "align_items": null,
      "align_self": null,
      "border": null,
      "bottom": null,
      "display": null,
      "flex": null,
      "flex_flow": null,
      "grid_area": null,
      "grid_auto_columns": null,
      "grid_auto_flow": null,
      "grid_auto_rows": null,
      "grid_column": null,
      "grid_gap": null,
      "grid_row": null,
      "grid_template_areas": null,
      "grid_template_columns": null,
      "grid_template_rows": null,
      "height": null,
      "justify_content": null,
      "justify_items": null,
      "left": null,
      "margin": null,
      "max_height": null,
      "max_width": null,
      "min_height": null,
      "min_width": null,
      "object_fit": null,
      "object_position": null,
      "order": null,
      "overflow": null,
      "overflow_x": null,
      "overflow_y": null,
      "padding": null,
      "right": null,
      "top": null,
      "visibility": null,
      "width": null
     }
    },
    "aa8c1316302a413382059d9da4bfa1cd": {
     "model_module": "@jupyter-widgets/controls",
     "model_name": "DescriptionStyleModel",
     "state": {
      "_model_module": "@jupyter-widgets/controls",
      "_model_module_version": "1.5.0",
      "_model_name": "DescriptionStyleModel",
      "_view_count": null,
      "_view_module": "@jupyter-widgets/base",
      "_view_module_version": "1.2.0",
      "_view_name": "StyleView",
      "description_width": ""
     }
    },
    "b40dea2cb6334576bdc067b295ea6cc5": {
     "model_module": "@jupyter-widgets/base",
     "model_name": "LayoutModel",
     "state": {
      "_model_module": "@jupyter-widgets/base",
      "_model_module_version": "1.2.0",
      "_model_name": "LayoutModel",
      "_view_count": null,
      "_view_module": "@jupyter-widgets/base",
      "_view_module_version": "1.2.0",
      "_view_name": "LayoutView",
      "align_content": null,
      "align_items": null,
      "align_self": null,
      "border": null,
      "bottom": null,
      "display": null,
      "flex": null,
      "flex_flow": null,
      "grid_area": null,
      "grid_auto_columns": null,
      "grid_auto_flow": null,
      "grid_auto_rows": null,
      "grid_column": null,
      "grid_gap": null,
      "grid_row": null,
      "grid_template_areas": null,
      "grid_template_columns": null,
      "grid_template_rows": null,
      "height": null,
      "justify_content": null,
      "justify_items": null,
      "left": null,
      "margin": null,
      "max_height": null,
      "max_width": null,
      "min_height": null,
      "min_width": null,
      "object_fit": null,
      "object_position": null,
      "order": null,
      "overflow": null,
      "overflow_x": null,
      "overflow_y": null,
      "padding": null,
      "right": null,
      "top": null,
      "visibility": null,
      "width": null
     }
    },
    "ebe3c197781c4c84bfd51be8b0b21102": {
     "model_module": "@jupyter-widgets/controls",
     "model_name": "HTMLModel",
     "state": {
      "_dom_classes": [],
      "_model_module": "@jupyter-widgets/controls",
      "_model_module_version": "1.5.0",
      "_model_name": "HTMLModel",
      "_view_count": null,
      "_view_module": "@jupyter-widgets/controls",
      "_view_module_version": "1.5.0",
      "_view_name": "HTMLView",
      "description": "",
      "description_tooltip": null,
      "layout": "IPY_MODEL_b40dea2cb6334576bdc067b295ea6cc5",
      "placeholder": "​",
      "style": "IPY_MODEL_aa8c1316302a413382059d9da4bfa1cd",
      "value": " 287051/? [00:20&lt;00:00, 13864.11it/s]"
     }
    },
    "f2c1394854664232801aca5202eeb340": {
     "model_module": "@jupyter-widgets/controls",
     "model_name": "ProgressStyleModel",
     "state": {
      "_model_module": "@jupyter-widgets/controls",
      "_model_module_version": "1.5.0",
      "_model_name": "ProgressStyleModel",
      "_view_count": null,
      "_view_module": "@jupyter-widgets/base",
      "_view_module_version": "1.2.0",
      "_view_name": "StyleView",
      "bar_color": null,
      "description_width": "initial"
     }
    },
    "f86e9122ff3f4e58921fd42848d7d4a1": {
     "model_module": "@jupyter-widgets/controls",
     "model_name": "ProgressStyleModel",
     "state": {
      "_model_module": "@jupyter-widgets/controls",
      "_model_module_version": "1.5.0",
      "_model_name": "ProgressStyleModel",
      "_view_count": null,
      "_view_module": "@jupyter-widgets/base",
      "_view_module_version": "1.2.0",
      "_view_name": "StyleView",
      "bar_color": null,
      "description_width": "initial"
     }
    }
   }
  }
 },
 "nbformat": 4,
 "nbformat_minor": 1
}
