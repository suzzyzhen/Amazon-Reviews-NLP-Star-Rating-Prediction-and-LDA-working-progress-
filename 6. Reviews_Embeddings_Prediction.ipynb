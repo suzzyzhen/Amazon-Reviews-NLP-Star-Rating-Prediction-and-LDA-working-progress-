{
 "cells": [
  {
   "cell_type": "markdown",
   "metadata": {},
   "source": [
    "## Word Embedding (GloVe) with LSTM "
   ]
  },
  {
   "cell_type": "code",
   "execution_count": 2,
   "metadata": {},
   "outputs": [
    {
     "name": "stderr",
     "output_type": "stream",
     "text": [
      "Using TensorFlow backend.\n"
     ]
    }
   ],
   "source": [
    "import os\n",
    "import pandas as pd\n",
    "import numpy as np\n",
    "import nltk\n",
    "import gensim\n",
    "import fasttext \n",
    "import seaborn as sns \n",
    "import matplotlib.pyplot as plt \n",
    "import pickle\n",
    "from pickle import load\n",
    "from pickle import dump\n",
    "from nltk import word_tokenize\n",
    "from gensim.models.fasttext import FastText\n",
    "from keras.preprocessing.text import Tokenizer\n",
    "from keras.preprocessing.sequence import pad_sequences\n",
    "from tensorflow.keras.models import Sequential\n",
    "from tensorflow.keras.layers import Dense, Embedding, GRU, LSTM\n",
    "from tensorflow.keras.models import load_model\n",
    "from sklearn import metrics\n",
    "from sklearn.metrics import confusion_matrix,classification_report"
   ]
  },
  {
   "cell_type": "code",
   "execution_count": 3,
   "metadata": {},
   "outputs": [],
   "source": [
    "def create_word_lists(texts):\n",
    "    corpus = []\n",
    "    for text in texts:\n",
    "        words = [word for word in word_tokenize(text)]\n",
    "        corpus.append(words)\n",
    "    return corpus"
   ]
  },
  {
   "cell_type": "markdown",
   "metadata": {},
   "source": [
    "## Load data for model training "
   ]
  },
  {
   "cell_type": "code",
   "execution_count": 4,
   "metadata": {},
   "outputs": [
    {
     "data": {
      "text/html": [
       "<div>\n",
       "<style scoped>\n",
       "    .dataframe tbody tr th:only-of-type {\n",
       "        vertical-align: middle;\n",
       "    }\n",
       "\n",
       "    .dataframe tbody tr th {\n",
       "        vertical-align: top;\n",
       "    }\n",
       "\n",
       "    .dataframe thead th {\n",
       "        text-align: right;\n",
       "    }\n",
       "</style>\n",
       "<table border=\"1\" class=\"dataframe\">\n",
       "  <thead>\n",
       "    <tr style=\"text-align: right;\">\n",
       "      <th></th>\n",
       "      <th>overall</th>\n",
       "      <th>department</th>\n",
       "      <th>clean2</th>\n",
       "    </tr>\n",
       "  </thead>\n",
       "  <tbody>\n",
       "    <tr>\n",
       "      <th>0</th>\n",
       "      <td>0</td>\n",
       "      <td>Snack Foods</td>\n",
       "      <td>disappointed not crispy dense no spice find go...</td>\n",
       "    </tr>\n",
       "    <tr>\n",
       "      <th>1</th>\n",
       "      <td>2</td>\n",
       "      <td>Herbs, Spices &amp; Seasonings</td>\n",
       "      <td>st time purchase vanilla bean not overly impre...</td>\n",
       "    </tr>\n",
       "    <tr>\n",
       "      <th>2</th>\n",
       "      <td>2</td>\n",
       "      <td>Candy &amp; Chocolate</td>\n",
       "      <td>love version dark chocolate thought salt carme...</td>\n",
       "    </tr>\n",
       "    <tr>\n",
       "      <th>3</th>\n",
       "      <td>4</td>\n",
       "      <td>Herbs, Spices &amp; Seasonings</td>\n",
       "      <td>convenient</td>\n",
       "    </tr>\n",
       "    <tr>\n",
       "      <th>4</th>\n",
       "      <td>1</td>\n",
       "      <td>Beverages</td>\n",
       "      <td>taste much like peach pie not enough like tea ...</td>\n",
       "    </tr>\n",
       "  </tbody>\n",
       "</table>\n",
       "</div>"
      ],
      "text/plain": [
       "   overall                  department  \\\n",
       "0        0                 Snack Foods   \n",
       "1        2  Herbs, Spices & Seasonings   \n",
       "2        2           Candy & Chocolate   \n",
       "3        4  Herbs, Spices & Seasonings   \n",
       "4        1                   Beverages   \n",
       "\n",
       "                                              clean2  \n",
       "0  disappointed not crispy dense no spice find go...  \n",
       "1  st time purchase vanilla bean not overly impre...  \n",
       "2  love version dark chocolate thought salt carme...  \n",
       "3                                         convenient  \n",
       "4  taste much like peach pie not enough like tea ...  "
      ]
     },
     "execution_count": 4,
     "metadata": {},
     "output_type": "execute_result"
    }
   ],
   "source": [
    "train = pd.read_csv(\"train_data.csv\")\n",
    "test = pd.read_csv(\"test_data.csv\")\n",
    "\n",
    "#transform the label column to 0-4 since the first class starts at 0 for LSTM classification \n",
    "train['overall'] = train['overall'].apply(lambda x: (int(x)-1))\n",
    "test['overall'] = test['overall'].apply(lambda x: (int(x)-1))\n",
    "\n",
    "train.head()"
   ]
  },
  {
   "cell_type": "code",
   "execution_count": 5,
   "metadata": {},
   "outputs": [
    {
     "name": "stdout",
     "output_type": "stream",
     "text": [
      "Number of unique words: 27018\n",
      "vocab_size - 27019\n"
     ]
    }
   ],
   "source": [
    "#tokenize each review into list of words\n",
    "train_corpus = create_word_lists(train['clean2'])\n",
    "test_corpus = create_word_lists(test['clean2'])\n",
    "\n",
    "#transform words in each review into number sequences \n",
    "tokenizer = Tokenizer()\n",
    "tokenizer.fit_on_texts(train_corpus)\n",
    "dump(tokenizer, open('tokenizer_embed.pkl', 'wb'))\n",
    "train_sequences = tokenizer.texts_to_sequences(train_corpus)\n",
    "test_sequences = tokenizer.texts_to_sequences(test_corpus)\n",
    "\n",
    "\n",
    "#find number of unique words \n",
    "word_index = tokenizer.word_index\n",
    "print(\"Number of unique words: \"+str(len(word_index)))\n",
    "vocab_size = len(tokenizer.word_index) + 1\n",
    "print('vocab_size - '+str(vocab_size))"
   ]
  },
  {
   "cell_type": "code",
   "execution_count": 6,
   "metadata": {},
   "outputs": [],
   "source": [
    "max_length = 100\n",
    "\n",
    "#pad the review sequences with 0's to max lengeth \n",
    "train_pad = pad_sequences(train_sequences, maxlen=max_length, padding='post')\n",
    "X_test_pad = pad_sequences(test_sequences, maxlen=max_length, padding='post')\n",
    "\n",
    "train_ratings = train['overall'].values\n",
    "test_ratings = test['overall'].values\n",
    "\n",
    "#create idx to split train into train, val \n",
    "idx = np.arange(train_pad.shape[0])\n",
    "np.random.shuffle(idx)\n",
    "train_pad = train_pad[idx]\n",
    "train_ratings = train_ratings[idx]\n",
    "\n",
    "#create one-hot vector for class label \n",
    "n_values = np.max(train_ratings)+1\n",
    "\n",
    "Y_train = np.eye(n_values)[train_ratings]\n",
    "y_test = np.eye(n_values)[test_ratings]\n"
   ]
  },
  {
   "cell_type": "code",
   "execution_count": 7,
   "metadata": {},
   "outputs": [
    {
     "name": "stdout",
     "output_type": "stream",
     "text": [
      "Shape of X_train_pad: (60000, 100)\n",
      "Shape of y_train: (60000, 5)\n",
      "Shape of X_val_pad: (20000, 100)\n",
      "Shape of y_val: (20000, 5)\n",
      "Shape of X_test_pad: (20000, 100)\n",
      "Shape of y_test: (20000, 5)\n"
     ]
    }
   ],
   "source": [
    "val_split = 0.25\n",
    "\n",
    "#create training and validation sets; 80% for train, 20% for validation \n",
    "\n",
    "num_validation_samples = int(val_split * train_pad.shape[0])\n",
    "\n",
    "#validation set\n",
    "X_val_pad = train_pad[:num_validation_samples]\n",
    "y_val = Y_train[:num_validation_samples]\n",
    "\n",
    "#train set \n",
    "X_train_pad = train_pad[num_validation_samples:]\n",
    "y_train = Y_train[num_validation_samples:]\n",
    "\n",
    "\n",
    "print('Shape of X_train_pad:', X_train_pad.shape)\n",
    "print('Shape of y_train:', y_train.shape)\n",
    "\n",
    "print('Shape of X_val_pad:', X_val_pad.shape)\n",
    "print('Shape of y_val:', y_val.shape)\n",
    "\n",
    "\n",
    "print('Shape of X_test_pad:', X_test_pad.shape)\n",
    "print('Shape of y_test:', y_test.shape)"
   ]
  },
  {
   "cell_type": "markdown",
   "metadata": {},
   "source": [
    "## GloVe Model"
   ]
  },
  {
   "cell_type": "code",
   "execution_count": 45,
   "metadata": {},
   "outputs": [],
   "source": [
    "# load the model and assign vectors to each word in the model \n",
    "\n",
    "embedding_glove = {}\n",
    "embedding_dim_glove = 100\n",
    "\n",
    "#open pre-trained word vector model\n",
    "f = open(os.path.join(os.getcwd(),'glove_twitter_100d.txt'), encoding = \"utf-8\")\n",
    "for line in f:\n",
    "    values = line.split()\n",
    "    word = values[0]\n",
    "    vectors = np.asarray(values[1:], dtype='float32')\n",
    "    embedding_glove[word] = vectors\n",
    "f.close()"
   ]
  },
  {
   "cell_type": "code",
   "execution_count": 46,
   "metadata": {},
   "outputs": [
    {
     "name": "stdout",
     "output_type": "stream",
     "text": [
      "Theere are: 1193514 words in the model\n",
      "The embedding for food is 100 dimensional\n"
     ]
    },
    {
     "data": {
      "text/plain": [
       "array([-0.52348  , -0.39926  ,  0.24898  , -0.039715 ,  0.067344 ,\n",
       "       -0.34445  ,  0.34888  ,  0.60016  ,  0.94921  , -0.64628  ,\n",
       "       -1.1042   , -0.44242  , -4.2723   ,  0.47759  , -0.54165  ,\n",
       "        0.55117  ,  0.26203  , -0.47045  , -0.37717  , -0.5985   ,\n",
       "       -0.10843  ,  0.32041  , -0.40699  ,  0.004276 ,  0.5429   ,\n",
       "        0.42808  , -0.16087  , -0.13919  ,  0.58994  ,  0.1809   ,\n",
       "       -0.88564  , -0.047295 , -0.97389  , -0.0083825,  0.085801 ,\n",
       "       -0.68881  ,  0.41937  ,  0.73735  ,  0.69426  ,  0.97459  ,\n",
       "       -0.43348  ,  0.33125  ,  0.065084 , -0.13284  ,  0.99607  ,\n",
       "        0.82727  ,  0.065382 ,  0.80963  , -0.095502 ,  0.049895 ,\n",
       "       -0.77063  , -0.24953  , -0.76081  ,  0.91922  ,  0.20773  ,\n",
       "        0.41041  ,  0.71853  , -0.22399  ,  0.2767   , -0.44373  ,\n",
       "       -0.35005  , -0.15431  ,  0.013649 ,  0.38956  ,  0.32611  ,\n",
       "       -0.84561  ,  0.27346  , -0.486    , -0.17267  , -0.081096 ,\n",
       "       -0.30867  , -0.20255  ,  0.33779  ,  0.27343  ,  0.46227  ,\n",
       "       -0.24736  , -1.2959   , -0.23204  ,  0.66324  ,  0.27273  ,\n",
       "        1.4338   ,  0.73959  , -0.44582  , -0.37129  ,  0.28817  ,\n",
       "        0.27981  , -0.20058  , -0.155    , -0.11982  , -0.093805 ,\n",
       "       -0.31183  , -0.055695 , -0.055606 ,  0.52088  ,  0.067107 ,\n",
       "        0.43624  , -0.032742 , -0.023053 , -0.019998 ,  0.2467   ],\n",
       "      dtype=float32)"
      ]
     },
     "execution_count": 46,
     "metadata": {},
     "output_type": "execute_result"
    }
   ],
   "source": [
    "# take a look at the model \n",
    "\n",
    "print('Theere are:', len(embedding_glove), 'words in the model')\n",
    "print(\"The embedding for food is\", len(embedding_glove['food']), \"dimensional\")\n",
    "\n",
    "embedding_glove['food']"
   ]
  },
  {
   "cell_type": "code",
   "execution_count": 47,
   "metadata": {},
   "outputs": [],
   "source": [
    "# assign vector for each word in the corpus \n",
    "\n",
    "embedding_matrix_glove = np.zeros((vocab_size, embedding_dim_glove))\n",
    "for word, i in word_index.items():\n",
    "    embedding_vector = embedding_glove.get(word)\n",
    "    if embedding_vector is not None:\n",
    "        embedding_matrix_glove[i] = embedding_vector"
   ]
  },
  {
   "cell_type": "code",
   "execution_count": 48,
   "metadata": {},
   "outputs": [],
   "source": [
    "# create embedding layer for LSTM model \n",
    "\n",
    "embedding_layer_glove = Embedding(vocab_size,\n",
    "                            embedding_dim_glove,\n",
    "                            weights=[embedding_matrix_glove],\n",
    "                            input_length=max_length,\n",
    "                            trainable=False)"
   ]
  },
  {
   "cell_type": "code",
   "execution_count": 49,
   "metadata": {},
   "outputs": [
    {
     "name": "stdout",
     "output_type": "stream",
     "text": [
      "Model: \"sequential_1\"\n",
      "_________________________________________________________________\n",
      "Layer (type)                 Output Shape              Param #   \n",
      "=================================================================\n",
      "embedding_1 (Embedding)      (None, 100, 100)          2701900   \n",
      "_________________________________________________________________\n",
      "lstm_1 (LSTM)                (None, 100)               80400     \n",
      "_________________________________________________________________\n",
      "dense_1 (Dense)              (None, 5)                 505       \n",
      "=================================================================\n",
      "Total params: 2,782,805\n",
      "Trainable params: 80,905\n",
      "Non-trainable params: 2,701,900\n",
      "_________________________________________________________________\n",
      "None\n"
     ]
    }
   ],
   "source": [
    "# build model layers \n",
    "\n",
    "model_glove = Sequential()\n",
    "model_glove.add(embedding_layer_glove)\n",
    "model_glove.add(LSTM(units=100,  dropout=0.2, recurrent_dropout=0.25))\n",
    "model_glove.add(Dense(5, activation='softmax'))\n",
    "\n",
    "model_glove.compile(loss='categorical_crossentropy', optimizer='adam', metrics=['accuracy'])\n",
    "\n",
    "print(model_glove.summary())"
   ]
  },
  {
   "cell_type": "code",
   "execution_count": 50,
   "metadata": {},
   "outputs": [
    {
     "name": "stdout",
     "output_type": "stream",
     "text": [
      "Epoch 1/80\n",
      "938/938 [==============================] - 215s 226ms/step - loss: 1.6098 - accuracy: 0.2050 - val_loss: 1.5785 - val_accuracy: 0.2313\n",
      "Epoch 2/80\n",
      "938/938 [==============================] - 210s 224ms/step - loss: 1.5936 - accuracy: 0.2334 - val_loss: 1.5630 - val_accuracy: 0.2458\n",
      "Epoch 3/80\n",
      "938/938 [==============================] - 214s 228ms/step - loss: 1.5637 - accuracy: 0.2463 - val_loss: 1.5709 - val_accuracy: 0.2386\n",
      "Epoch 4/80\n",
      "938/938 [==============================] - 213s 227ms/step - loss: 1.5681 - accuracy: 0.2381 - val_loss: 1.5617 - val_accuracy: 0.2410\n",
      "Epoch 5/80\n",
      "938/938 [==============================] - 211s 225ms/step - loss: 1.5699 - accuracy: 0.2418 - val_loss: 1.6069 - val_accuracy: 0.1994\n",
      "Epoch 6/80\n",
      "938/938 [==============================] - 206s 220ms/step - loss: 1.6062 - accuracy: 0.2058 - val_loss: 1.6098 - val_accuracy: 0.2002\n",
      "Epoch 7/80\n",
      "938/938 [==============================] - 210s 224ms/step - loss: 1.6103 - accuracy: 0.1975 - val_loss: 1.6116 - val_accuracy: 0.1953\n",
      "Epoch 8/80\n",
      "938/938 [==============================] - 211s 225ms/step - loss: 1.6086 - accuracy: 0.2075 - val_loss: 1.6087 - val_accuracy: 0.2019\n",
      "Epoch 9/80\n",
      "938/938 [==============================] - 210s 224ms/step - loss: 1.6076 - accuracy: 0.2068 - val_loss: 1.6106 - val_accuracy: 0.1966\n",
      "Epoch 10/80\n",
      "938/938 [==============================] - 210s 223ms/step - loss: 1.6045 - accuracy: 0.2044 - val_loss: 1.6023 - val_accuracy: 0.2033\n",
      "Epoch 11/80\n",
      "938/938 [==============================] - 212s 226ms/step - loss: 1.5873 - accuracy: 0.2276 - val_loss: 1.6092 - val_accuracy: 0.2017\n",
      "Epoch 12/80\n",
      "938/938 [==============================] - 212s 226ms/step - loss: 1.6063 - accuracy: 0.2063 - val_loss: 1.5970 - val_accuracy: 0.2142\n",
      "Epoch 13/80\n",
      "938/938 [==============================] - 213s 227ms/step - loss: 1.5891 - accuracy: 0.2219 - val_loss: 1.5900 - val_accuracy: 0.2234\n",
      "Epoch 14/80\n",
      "938/938 [==============================] - 215s 230ms/step - loss: 1.5790 - accuracy: 0.2328 - val_loss: 1.3761 - val_accuracy: 0.3746\n",
      "Epoch 15/80\n",
      "938/938 [==============================] - 209s 223ms/step - loss: 1.3278 - accuracy: 0.4102 - val_loss: 1.2173 - val_accuracy: 0.4665\n",
      "Epoch 16/80\n",
      "938/938 [==============================] - 210s 224ms/step - loss: 1.2251 - accuracy: 0.4633 - val_loss: 1.1769 - val_accuracy: 0.4885\n",
      "Epoch 17/80\n",
      "938/938 [==============================] - 210s 224ms/step - loss: 1.1824 - accuracy: 0.4851 - val_loss: 1.1557 - val_accuracy: 0.4954\n",
      "Epoch 18/80\n",
      "938/938 [==============================] - 210s 224ms/step - loss: 1.1541 - accuracy: 0.4981 - val_loss: 1.1364 - val_accuracy: 0.5062\n",
      "Epoch 19/80\n",
      "938/938 [==============================] - 208s 222ms/step - loss: 1.1369 - accuracy: 0.5088 - val_loss: 1.1312 - val_accuracy: 0.5130\n",
      "Epoch 20/80\n",
      "938/938 [==============================] - 211s 225ms/step - loss: 1.1145 - accuracy: 0.5152 - val_loss: 1.1289 - val_accuracy: 0.5121\n",
      "Epoch 21/80\n",
      "938/938 [==============================] - 212s 226ms/step - loss: 1.0928 - accuracy: 0.5283 - val_loss: 1.1205 - val_accuracy: 0.5105\n",
      "Epoch 22/80\n",
      "938/938 [==============================] - 213s 227ms/step - loss: 1.0850 - accuracy: 0.5305 - val_loss: 1.1097 - val_accuracy: 0.5210\n",
      "Epoch 23/80\n",
      "938/938 [==============================] - 212s 226ms/step - loss: 1.0745 - accuracy: 0.5329 - val_loss: 1.1192 - val_accuracy: 0.5166\n",
      "Epoch 24/80\n",
      "938/938 [==============================] - 209s 223ms/step - loss: 1.0622 - accuracy: 0.5384 - val_loss: 1.1025 - val_accuracy: 0.5244\n",
      "Epoch 25/80\n",
      "938/938 [==============================] - 212s 226ms/step - loss: 1.0618 - accuracy: 0.5430 - val_loss: 1.0994 - val_accuracy: 0.5255\n",
      "Epoch 26/80\n",
      "938/938 [==============================] - 209s 222ms/step - loss: 1.0464 - accuracy: 0.5458 - val_loss: 1.1016 - val_accuracy: 0.5236\n",
      "Epoch 27/80\n",
      "938/938 [==============================] - 212s 226ms/step - loss: 1.0377 - accuracy: 0.5555 - val_loss: 1.1141 - val_accuracy: 0.5209\n",
      "Epoch 28/80\n",
      "938/938 [==============================] - 211s 225ms/step - loss: 1.0333 - accuracy: 0.5550 - val_loss: 1.1072 - val_accuracy: 0.5209\n",
      "Epoch 29/80\n",
      "938/938 [==============================] - 212s 226ms/step - loss: 1.0188 - accuracy: 0.5570 - val_loss: 1.1068 - val_accuracy: 0.5250\n",
      "Epoch 30/80\n",
      "938/938 [==============================] - 212s 226ms/step - loss: 1.0184 - accuracy: 0.5613 - val_loss: 1.1169 - val_accuracy: 0.5265\n",
      "Epoch 31/80\n",
      "938/938 [==============================] - 212s 226ms/step - loss: 1.0120 - accuracy: 0.5624 - val_loss: 1.1023 - val_accuracy: 0.5254\n",
      "Epoch 32/80\n",
      "938/938 [==============================] - 213s 227ms/step - loss: 1.0041 - accuracy: 0.5677 - val_loss: 1.1060 - val_accuracy: 0.5276\n",
      "Epoch 33/80\n",
      "938/938 [==============================] - 205s 219ms/step - loss: 1.0016 - accuracy: 0.5678 - val_loss: 1.1090 - val_accuracy: 0.5278\n",
      "Epoch 34/80\n",
      "938/938 [==============================] - 211s 225ms/step - loss: 0.9939 - accuracy: 0.5721 - val_loss: 1.1080 - val_accuracy: 0.5247\n",
      "Epoch 35/80\n",
      "938/938 [==============================] - 209s 223ms/step - loss: 0.9911 - accuracy: 0.5756 - val_loss: 1.1157 - val_accuracy: 0.5270\n",
      "Epoch 36/80\n",
      "938/938 [==============================] - 209s 223ms/step - loss: 0.9886 - accuracy: 0.5758 - val_loss: 1.1169 - val_accuracy: 0.5250\n",
      "Epoch 37/80\n",
      "938/938 [==============================] - 210s 223ms/step - loss: 0.9803 - accuracy: 0.5801 - val_loss: 1.1214 - val_accuracy: 0.5275\n",
      "Epoch 38/80\n",
      "938/938 [==============================] - 210s 224ms/step - loss: 0.9742 - accuracy: 0.5814 - val_loss: 1.1097 - val_accuracy: 0.5286\n",
      "Epoch 39/80\n",
      "938/938 [==============================] - 209s 223ms/step - loss: 0.9798 - accuracy: 0.5740 - val_loss: 1.1309 - val_accuracy: 0.5251\n",
      "Epoch 40/80\n",
      "938/938 [==============================] - 215s 229ms/step - loss: 0.9695 - accuracy: 0.5836 - val_loss: 1.1147 - val_accuracy: 0.5296\n",
      "Epoch 41/80\n",
      "938/938 [==============================] - 214s 228ms/step - loss: 0.9710 - accuracy: 0.5854 - val_loss: 1.1336 - val_accuracy: 0.5271\n",
      "Epoch 42/80\n",
      "938/938 [==============================] - 213s 227ms/step - loss: 0.9583 - accuracy: 0.5880 - val_loss: 1.1282 - val_accuracy: 0.5236\n",
      "Epoch 43/80\n",
      "938/938 [==============================] - 214s 228ms/step - loss: 0.9610 - accuracy: 0.5820 - val_loss: 1.1358 - val_accuracy: 0.5257\n",
      "Epoch 44/80\n",
      "938/938 [==============================] - 213s 227ms/step - loss: 0.9548 - accuracy: 0.5922 - val_loss: 1.1270 - val_accuracy: 0.5276\n",
      "Epoch 45/80\n",
      "938/938 [==============================] - 217s 232ms/step - loss: 0.9508 - accuracy: 0.5909 - val_loss: 1.1325 - val_accuracy: 0.5246\n",
      "Epoch 46/80\n",
      "938/938 [==============================] - 215s 229ms/step - loss: 0.9518 - accuracy: 0.5900 - val_loss: 1.1301 - val_accuracy: 0.5279\n",
      "Epoch 47/80\n",
      "938/938 [==============================] - 214s 228ms/step - loss: 0.9417 - accuracy: 0.5962 - val_loss: 1.1340 - val_accuracy: 0.5260\n",
      "Epoch 48/80\n",
      "938/938 [==============================] - 211s 225ms/step - loss: 0.9442 - accuracy: 0.5958 - val_loss: 1.1419 - val_accuracy: 0.5249\n",
      "Epoch 49/80\n",
      "938/938 [==============================] - 212s 226ms/step - loss: 0.9397 - accuracy: 0.5960 - val_loss: 1.1245 - val_accuracy: 0.5234\n",
      "Epoch 50/80\n",
      "938/938 [==============================] - 213s 227ms/step - loss: 0.9437 - accuracy: 0.5973 - val_loss: 1.1398 - val_accuracy: 0.5282\n",
      "Epoch 51/80\n",
      "938/938 [==============================] - 213s 227ms/step - loss: 0.9372 - accuracy: 0.5976 - val_loss: 1.1490 - val_accuracy: 0.5220\n",
      "Epoch 52/80\n",
      "938/938 [==============================] - 213s 227ms/step - loss: 0.9368 - accuracy: 0.5976 - val_loss: 1.1473 - val_accuracy: 0.5240\n",
      "Epoch 53/80\n",
      "938/938 [==============================] - 212s 226ms/step - loss: 0.9346 - accuracy: 0.5995 - val_loss: 1.1379 - val_accuracy: 0.5267\n",
      "Epoch 54/80\n",
      "938/938 [==============================] - 133s 142ms/step - loss: 0.9308 - accuracy: 0.6021 - val_loss: 1.1545 - val_accuracy: 0.5277\n",
      "Epoch 55/80\n",
      "938/938 [==============================] - 121s 129ms/step - loss: 0.9279 - accuracy: 0.5994 - val_loss: 1.1368 - val_accuracy: 0.5271\n",
      "Epoch 56/80\n",
      "938/938 [==============================] - 121s 129ms/step - loss: 0.9360 - accuracy: 0.6015 - val_loss: 1.1461 - val_accuracy: 0.5255\n"
     ]
    },
    {
     "name": "stdout",
     "output_type": "stream",
     "text": [
      "Epoch 57/80\n",
      "938/938 [==============================] - 128s 136ms/step - loss: 0.9243 - accuracy: 0.6030 - val_loss: 1.1480 - val_accuracy: 0.5234\n",
      "Epoch 58/80\n",
      "938/938 [==============================] - 129s 138ms/step - loss: 0.9303 - accuracy: 0.5991 - val_loss: 1.1610 - val_accuracy: 0.5217\n",
      "Epoch 59/80\n",
      "938/938 [==============================] - 131s 140ms/step - loss: 0.9180 - accuracy: 0.6047 - val_loss: 1.1615 - val_accuracy: 0.5256\n",
      "Epoch 60/80\n",
      "938/938 [==============================] - 127s 135ms/step - loss: 0.9157 - accuracy: 0.6075 - val_loss: 1.1530 - val_accuracy: 0.5250\n",
      "Epoch 61/80\n",
      "938/938 [==============================] - 127s 136ms/step - loss: 0.9233 - accuracy: 0.6001 - val_loss: 1.1547 - val_accuracy: 0.5232\n",
      "Epoch 62/80\n",
      "938/938 [==============================] - 133s 142ms/step - loss: 0.9146 - accuracy: 0.6110 - val_loss: 1.1597 - val_accuracy: 0.5225\n",
      "Epoch 63/80\n",
      "938/938 [==============================] - 129s 138ms/step - loss: 0.9151 - accuracy: 0.6092 - val_loss: 1.1639 - val_accuracy: 0.5242\n",
      "Epoch 64/80\n",
      "938/938 [==============================] - 129s 137ms/step - loss: 0.9099 - accuracy: 0.6140 - val_loss: 1.1502 - val_accuracy: 0.5244\n",
      "Epoch 65/80\n",
      "938/938 [==============================] - 138s 147ms/step - loss: 0.9105 - accuracy: 0.6078 - val_loss: 1.1507 - val_accuracy: 0.5232\n",
      "Epoch 66/80\n",
      "938/938 [==============================] - 137s 146ms/step - loss: 0.9123 - accuracy: 0.6082 - val_loss: 1.1703 - val_accuracy: 0.5238\n",
      "Epoch 67/80\n",
      "938/938 [==============================] - 133s 142ms/step - loss: 0.9117 - accuracy: 0.6082 - val_loss: 1.1515 - val_accuracy: 0.5261\n",
      "Epoch 68/80\n",
      "938/938 [==============================] - 127s 136ms/step - loss: 0.9083 - accuracy: 0.6117 - val_loss: 1.1687 - val_accuracy: 0.5247\n",
      "Epoch 69/80\n",
      "938/938 [==============================] - 122s 130ms/step - loss: 0.9114 - accuracy: 0.6097 - val_loss: 1.1599 - val_accuracy: 0.5275\n",
      "Epoch 70/80\n",
      "938/938 [==============================] - 125s 134ms/step - loss: 0.9035 - accuracy: 0.6099 - val_loss: 1.1574 - val_accuracy: 0.5247\n",
      "Epoch 71/80\n",
      "938/938 [==============================] - 128s 137ms/step - loss: 0.9057 - accuracy: 0.6110 - val_loss: 1.1594 - val_accuracy: 0.5203\n",
      "Epoch 72/80\n",
      "938/938 [==============================] - 125s 133ms/step - loss: 0.9039 - accuracy: 0.6130 - val_loss: 1.1702 - val_accuracy: 0.5203\n",
      "Epoch 73/80\n",
      "938/938 [==============================] - 127s 135ms/step - loss: 0.9064 - accuracy: 0.6151 - val_loss: 1.1678 - val_accuracy: 0.5233\n",
      "Epoch 74/80\n",
      "938/938 [==============================] - 130s 138ms/step - loss: 0.9044 - accuracy: 0.6119 - val_loss: 1.1764 - val_accuracy: 0.5206\n",
      "Epoch 75/80\n",
      "938/938 [==============================] - 126s 134ms/step - loss: 0.9037 - accuracy: 0.6133 - val_loss: 1.1688 - val_accuracy: 0.5256\n",
      "Epoch 76/80\n",
      "938/938 [==============================] - 130s 139ms/step - loss: 0.9001 - accuracy: 0.6151 - val_loss: 1.1620 - val_accuracy: 0.5204\n",
      "Epoch 77/80\n",
      "938/938 [==============================] - 130s 138ms/step - loss: 0.8978 - accuracy: 0.6157 - val_loss: 1.1932 - val_accuracy: 0.5206\n",
      "Epoch 78/80\n",
      "938/938 [==============================] - 127s 136ms/step - loss: 0.8983 - accuracy: 0.6160 - val_loss: 1.1587 - val_accuracy: 0.5226\n",
      "Epoch 79/80\n",
      "938/938 [==============================] - 130s 139ms/step - loss: 0.8880 - accuracy: 0.6204 - val_loss: 1.1705 - val_accuracy: 0.5217\n",
      "Epoch 80/80\n",
      "938/938 [==============================] - 127s 136ms/step - loss: 0.8988 - accuracy: 0.6146 - val_loss: 1.1675 - val_accuracy: 0.5235\n"
     ]
    }
   ],
   "source": [
    "# run and store model history \n",
    "\n",
    "history_glove = model_glove.fit(X_train_pad, y_train, batch_size=64, epochs=80, \n",
    "                                validation_data=(X_val_pad, y_val), verbose=1)"
   ]
  },
  {
   "cell_type": "code",
   "execution_count": 51,
   "metadata": {},
   "outputs": [
    {
     "data": {
      "image/png": "[encoded data removed]",
      "text/plain": [
       "<Figure size 432x288 with 1 Axes>"
      ]
     },
     "metadata": {
      "needs_background": "light"
     },
     "output_type": "display_data"
    },
    {
     "data": {
      "image/png": "[encoded data removed]",
      "text/plain": [
       "<Figure size 432x288 with 1 Axes>"
      ]
     },
     "metadata": {
      "needs_background": "light"
     },
     "output_type": "display_data"
    }
   ],
   "source": [
    "# plot training vs validation accuracy and loss \n",
    "\n",
    "acc = history_glove.history['accuracy']\n",
    "val_acc = history_glove.history['val_accuracy']\n",
    "loss = history_glove.history['loss']\n",
    "val_loss = history_glove.history['val_loss']\n",
    "\n",
    "\n",
    "epochs = range(1, len(acc)+1)\n",
    "\n",
    "\n",
    "plt.plot(epochs, acc, 'g', label='Training accuracy')\n",
    "plt.plot(epochs, val_acc, 'r', label='Validation accuracy')\n",
    "plt.title('Training and validation accuracy')\n",
    "plt.legend()\n",
    "\n",
    "plt.figure()\n",
    "\n",
    "plt.plot(epochs, loss, 'g', label='Training loss')\n",
    "plt.plot(epochs, val_loss, 'r', label='Validation loss')\n",
    "plt.title('Training and validation loss')\n",
    "plt.legend()\n",
    "\n",
    "plt.show()"
   ]
  },
  {
   "cell_type": "code",
   "execution_count": 52,
   "metadata": {},
   "outputs": [],
   "source": [
    "# save the model \n",
    "\n",
    "model_glove.save('glove_LSTM.h5')"
   ]
  },
  {
   "cell_type": "code",
   "execution_count": 8,
   "metadata": {},
   "outputs": [],
   "source": [
    "## load the model\n",
    "\n",
    "glove = load_model('glove_LSTM.h5')"
   ]
  },
  {
   "cell_type": "code",
   "execution_count": 9,
   "metadata": {},
   "outputs": [],
   "source": [
    "# predict on testing data \n",
    "\n",
    "y_pred_glove = glove.predict(X_test_pad)"
   ]
  },
  {
   "cell_type": "code",
   "execution_count": 10,
   "metadata": {},
   "outputs": [
    {
     "name": "stdout",
     "output_type": "stream",
     "text": [
      "              precision    recall  f1-score   support\n",
      "\n",
      "           0       0.63      0.61      0.62      3987\n",
      "           1       0.43      0.43      0.43      3978\n",
      "           2       0.46      0.42      0.44      4002\n",
      "           3       0.48      0.49      0.48      4015\n",
      "           4       0.63      0.70      0.67      4018\n",
      "\n",
      "    accuracy                           0.53     20000\n",
      "   macro avg       0.53      0.53      0.53     20000\n",
      "weighted avg       0.53      0.53      0.53     20000\n",
      "\n"
     ]
    }
   ],
   "source": [
    "# view results \n",
    "\n",
    "glove_results = classification_report(y_test.argmax(axis=1),y_pred_glove.argmax(axis=1))\n",
    "print(glove_results)"
   ]
  },
  {
   "cell_type": "code",
   "execution_count": 11,
   "metadata": {},
   "outputs": [
    {
     "data": {
      "text/plain": [
       "(5.0, 0.0)"
      ]
     },
     "execution_count": 11,
     "metadata": {},
     "output_type": "execute_result"
    },
    {
     "data": {
      "image/png": "[encoded data removed]",
      "text/plain": [
       "<Figure size 432x288 with 2 Axes>"
      ]
     },
     "metadata": {
      "needs_background": "light"
     },
     "output_type": "display_data"
    }
   ],
   "source": [
    "# plot confusion matrix \n",
    "\n",
    "cm_glove = confusion_matrix(y_test.argmax(axis=1), y_pred_glove.argmax(axis=1))\n",
    "\n",
    "ax= plt.subplot()\n",
    "sns.heatmap(cm_glove, annot=True, ax = ax, cmap=plt.cm.Blues, fmt=\"d\"); #annot=True to annotate cells\n",
    "ax.set_xlabel('Predicted labels');ax.set_ylabel('True labels'); \n",
    "ax.set_title('Confusion Matrix'); \n",
    "bottom, top = ax.get_ylim()\n",
    "ax.set_ylim(bottom + 0.5, top - 0.5)"
   ]
  },
  {
   "cell_type": "code",
   "execution_count": 13,
   "metadata": {},
   "outputs": [
    {
     "name": "stdout",
     "output_type": "stream",
     "text": [
      "[[2449 1021  264  135  118]\n",
      " [ 964 1726  853  292  143]\n",
      " [ 320  893 1667  841  281]\n",
      " [  85  235  652 1964 1079]\n",
      " [  69   97  165  873 2814]]\n",
      "The accuracy with one missed step is: 0.8898\n"
     ]
    }
   ],
   "source": [
    "matrix = confusion_matrix(y_test.argmax(axis=1), y_pred_glove.argmax(axis=1))\n",
    "print(matrix)\n",
    "\n",
    "actual, one_less, one_more  = 0, 0, 0\n",
    "for i in range(len(matrix)):\n",
    "    actual += matrix[i][i]\n",
    "    try:\n",
    "        one_less += matrix[i+1][i]\n",
    "        one_more += matrix[i][i+1]\n",
    "        i+=1\n",
    "    except:\n",
    "        one_less += 0\n",
    "        one_more += 0\n",
    "# print(actual, one_less, one_more)\n",
    "\n",
    "acc_miss1 = (actual+one_less+one_more)/np.sum(matrix)\n",
    "print('The accuracy with one missed step is:', acc_miss1)"
   ]
  },
  {
   "cell_type": "code",
   "execution_count": null,
   "metadata": {},
   "outputs": [],
   "source": []
  },
  {
   "cell_type": "code",
   "execution_count": null,
   "metadata": {},
   "outputs": [],
   "source": []
  },
  {
   "cell_type": "markdown",
   "metadata": {},
   "source": [
    "## Train customized FastText model based on 1.1 million reviews "
   ]
  },
  {
   "cell_type": "code",
   "execution_count": null,
   "metadata": {},
   "outputs": [],
   "source": [
    "# # model generation from all the reviews \n",
    "\n",
    "# m_df = pd.read_pickle(\"clean_df.pkl\")\n",
    "\n",
    "# # transform reviews into list of words \n",
    "# corpus = create_word_lists(m_df['clean2'])\n",
    "\n",
    "# # Set values for various parameters\n",
    "# feature_size = 100   # Word vector dimensionality  \n",
    "# min_word_count = 3   # Minimum word count                        \n",
    "# sample = 1e-3        # Downsample setting for frequent words\n",
    "\n",
    "\n",
    "# #train fasttext model \n",
    "# ft_model = FastText(corpus, size=feature_size, \n",
    "#                      min_count = min_word_count, sample=sample, iter=200)\n",
    "\n",
    "# ft_model.save(\"fasttext_amz.bin\") # Saving the model"
   ]
  },
  {
   "cell_type": "code",
   "execution_count": null,
   "metadata": {},
   "outputs": [],
   "source": [
    "# #load FastText model and review word vectors and examples \n",
    "\n",
    "# ft = FastText.load(\"fasttext_amz.bin\") # Loading the model\n",
    "\n",
    "# print('Example word vector', ft.wv['food'])\n",
    "\n",
    "# print('Finding the most similar words', ft.wv.most_similar('bad'))\n",
    "\n"
   ]
  },
  {
   "cell_type": "markdown",
   "metadata": {},
   "source": [
    "## Fasttext model with LSTM"
   ]
  },
  {
   "cell_type": "code",
   "execution_count": null,
   "metadata": {},
   "outputs": [],
   "source": [
    "# # load the model and assign vectors to each word in the model \n",
    "\n",
    "# embedding_dim_ft = 100\n",
    "# embedding_matrix_ft = np.zeros((vocab_size, embedding_dim_ft))\n",
    "# for word, i in word_index.items():\n",
    "#     embedding_vector = ft.wv[word]\n",
    "#     if embedding_vector is not None:\n",
    "#         embedding_matrix_ft[i] = embedding_vector"
   ]
  },
  {
   "cell_type": "code",
   "execution_count": 15,
   "metadata": {},
   "outputs": [],
   "source": [
    "# # create embedding layer for LSTM model \n",
    "\n",
    "# embedding_layer_ft = Embedding(vocab_size, embedding_dim_ft, \n",
    "#                             weights=[embedding_matrix_ft], input_length=max_length, trainable=False)"
   ]
  },
  {
   "cell_type": "code",
   "execution_count": null,
   "metadata": {},
   "outputs": [],
   "source": [
    "# # build model layers \n",
    "\n",
    "# model_ft = Sequential()\n",
    "# model_ft.add(embedding_layer_ft)\n",
    "# model_ft.add(LSTM(units=100,  dropout=0.2, recurrent_dropout=0.25))\n",
    "# model_ft.add(Dense(5, activation='softmax'))\n",
    "\n",
    "# model_ft.compile(loss='categorical_crossentropy', optimizer='adam', metrics=['accuracy'])\n",
    "\n",
    "# print(model_ft.summary())"
   ]
  },
  {
   "cell_type": "code",
   "execution_count": null,
   "metadata": {},
   "outputs": [],
   "source": [
    "# run and store model history \n",
    "\n",
    "# history_ft = model_ft.fit(X_train_pad, y_train, batch_size=64, \n",
    "#                                 epochs=50, validation_data=(X_val_pad, y_val), verbose=1)"
   ]
  },
  {
   "cell_type": "code",
   "execution_count": null,
   "metadata": {},
   "outputs": [],
   "source": [
    "## save the model\n",
    "\n",
    "# model_ft.save('ft_LSTM.h5')"
   ]
  },
  {
   "cell_type": "code",
   "execution_count": null,
   "metadata": {},
   "outputs": [],
   "source": [
    "# # load the model\n",
    "\n",
    "# ft2 = load_model('ft_LSTM.h5')"
   ]
  },
  {
   "cell_type": "code",
   "execution_count": null,
   "metadata": {},
   "outputs": [],
   "source": [
    "# # predict on test data \n",
    "\n",
    "# y_pred = ft2.predict(X_test_pad)"
   ]
  },
  {
   "cell_type": "code",
   "execution_count": null,
   "metadata": {},
   "outputs": [],
   "source": [
    "# # view results \n",
    "\n",
    "# ft_results = classification_report(y_test.argmax(axis=1),y_pred.argmax(axis=1))\n",
    "# print(ft_results)"
   ]
  },
  {
   "cell_type": "code",
   "execution_count": null,
   "metadata": {},
   "outputs": [],
   "source": [
    "# # plot confusion matrix \n",
    "\n",
    "# cm = confusion_matrix(y_test.argmax(axis=1), y_pred.argmax(axis=1))\n",
    "\n",
    "# ax= plt.subplot()\n",
    "# sns.heatmap(cm, annot=True, ax = ax, cmap=plt.cm.Blues, fmt=\"d\"); #annot=True to annotate cells\n",
    "# ax.set_xlabel('Predicted labels');ax.set_ylabel('True labels'); \n",
    "# ax.set_title('Confusion Matrix'); \n",
    "# bottom, top = ax.get_ylim()\n",
    "# ax.set_ylim(bottom + 0.5, top - 0.5)"
   ]
  },
  {
   "cell_type": "code",
   "execution_count": null,
   "metadata": {},
   "outputs": [],
   "source": []
  },
  {
   "cell_type": "code",
   "execution_count": null,
   "metadata": {},
   "outputs": [],
   "source": []
  },
  {
   "cell_type": "code",
   "execution_count": null,
   "metadata": {},
   "outputs": [],
   "source": []
  },
  {
   "cell_type": "code",
   "execution_count": null,
   "metadata": {},
   "outputs": [],
   "source": [
    "# #Custom word2vec model\n",
    "\n",
    "# model = gensim.models.Word2Vec(sentences=corpus, size=100, window=5, workers=4, min_count=5, sg=1) #sg= 1:skip-gram 0:cbow\n",
    "# vocab_words = list(model.wv.vocab)                                                                      \n",
    "# print(len(vocab_words))\n",
    "\n",
    "# filename = \"amazon_word2vec_100.txt\"\n",
    "# model.wv.save_word2vec_format(filename, binary=False)"
   ]
  },
  {
   "cell_type": "code",
   "execution_count": null,
   "metadata": {},
   "outputs": [],
   "source": []
  }
 ],
 "metadata": {
  "kernelspec": {
   "display_name": "Python 3",
   "language": "python",
   "name": "python3"
  },
  "language_info": {
   "codemirror_mode": {
    "name": "ipython",
    "version": 3
   },
   "file_extension": ".py",
   "mimetype": "text/x-python",
   "name": "python",
   "nbconvert_exporter": "python",
   "pygments_lexer": "ipython3",
   "version": "3.7.1"
  }
 },
 "nbformat": 4,
 "nbformat_minor": 2
}
